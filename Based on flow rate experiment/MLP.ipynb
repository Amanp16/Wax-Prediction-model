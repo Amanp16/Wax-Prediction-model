{
 "cells": [
  {
   "cell_type": "code",
   "execution_count": 1,
   "id": "fa0ac26a",
   "metadata": {},
   "outputs": [
    {
     "name": "stdout",
     "output_type": "stream",
     "text": [
      "Requirement already satisfied: xgboost in c:\\users\\amanmsi\\anaconda3\\lib\\site-packages (2.0.2)\n",
      "Requirement already satisfied: numpy in c:\\users\\amanmsi\\anaconda3\\lib\\site-packages (from xgboost) (1.21.6)\n",
      "Requirement already satisfied: scipy in c:\\users\\amanmsi\\anaconda3\\lib\\site-packages (from xgboost) (1.7.3)\n"
     ]
    },
    {
     "name": "stderr",
     "output_type": "stream",
     "text": [
      "\n",
      "[notice] A new release of pip is available: 23.3.1 -> 24.0\n",
      "[notice] To update, run: python.exe -m pip install --upgrade pip\n"
     ]
    }
   ],
   "source": [
    "import sys\n",
    "!{sys.executable} -m pip install xgboost"
   ]
  },
  {
   "cell_type": "code",
   "execution_count": 7,
   "id": "1cd9c99f",
   "metadata": {},
   "outputs": [
    {
     "name": "stdout",
     "output_type": "stream",
     "text": [
      "Requirement already satisfied: pip in c:\\users\\amanmsi\\anaconda3\\lib\\site-packages (23.3.1)\n",
      "Collecting pip\n",
      "  Using cached pip-24.0-py3-none-any.whl.metadata (3.6 kB)\n",
      "Using cached pip-24.0-py3-none-any.whl (2.1 MB)\n",
      "Installing collected packages: pip\n",
      "  Attempting uninstall: pip\n",
      "    Found existing installation: pip 23.3.1\n",
      "    Uninstalling pip-23.3.1:\n",
      "      Successfully uninstalled pip-23.3.1\n",
      "Successfully installed pip-24.0\n"
     ]
    }
   ],
   "source": [
    "!python.exe -m pip install --upgrade pip"
   ]
  },
  {
   "cell_type": "code",
   "execution_count": 19,
   "id": "3128a66e",
   "metadata": {
    "scrolled": true
   },
   "outputs": [
    {
     "data": {
      "text/html": [
       "<div>\n",
       "<style scoped>\n",
       "    .dataframe tbody tr th:only-of-type {\n",
       "        vertical-align: middle;\n",
       "    }\n",
       "\n",
       "    .dataframe tbody tr th {\n",
       "        vertical-align: top;\n",
       "    }\n",
       "\n",
       "    .dataframe thead th {\n",
       "        text-align: right;\n",
       "    }\n",
       "</style>\n",
       "<table border=\"1\" class=\"dataframe\">\n",
       "  <thead>\n",
       "    <tr style=\"text-align: right;\">\n",
       "      <th></th>\n",
       "      <th>Oil Name</th>\n",
       "      <th>API Gravity</th>\n",
       "      <th>S</th>\n",
       "      <th>A</th>\n",
       "      <th>R</th>\n",
       "      <th>Ap</th>\n",
       "      <th>Oil Temperature</th>\n",
       "      <th>Wall Temperature</th>\n",
       "      <th>Rotation Speed</th>\n",
       "      <th>Wall Shear Stress</th>\n",
       "      <th>Oil Viscosity</th>\n",
       "      <th>Wax Crystal Solubility Coefficient</th>\n",
       "      <th>Temperature Gradient</th>\n",
       "      <th>Wax Deposition Rate</th>\n",
       "    </tr>\n",
       "  </thead>\n",
       "  <tbody>\n",
       "    <tr>\n",
       "      <th>0</th>\n",
       "      <td>OL1</td>\n",
       "      <td>22.4</td>\n",
       "      <td>36.9</td>\n",
       "      <td>37.9</td>\n",
       "      <td>19.4</td>\n",
       "      <td>5.8</td>\n",
       "      <td>42.0</td>\n",
       "      <td>32.0</td>\n",
       "      <td>150.0</td>\n",
       "      <td>3.58</td>\n",
       "      <td>0.21</td>\n",
       "      <td>17.70</td>\n",
       "      <td>579.0</td>\n",
       "      <td>9.14</td>\n",
       "    </tr>\n",
       "    <tr>\n",
       "      <th>1</th>\n",
       "      <td>OL2</td>\n",
       "      <td>18.3</td>\n",
       "      <td>32.3</td>\n",
       "      <td>42.2</td>\n",
       "      <td>19.8</td>\n",
       "      <td>5.8</td>\n",
       "      <td>45.0</td>\n",
       "      <td>35.0</td>\n",
       "      <td>150.0</td>\n",
       "      <td>2.72</td>\n",
       "      <td>0.13</td>\n",
       "      <td>6.07</td>\n",
       "      <td>578.8</td>\n",
       "      <td>4.96</td>\n",
       "    </tr>\n",
       "    <tr>\n",
       "      <th>2</th>\n",
       "      <td>OL3</td>\n",
       "      <td>22.8</td>\n",
       "      <td>43.6</td>\n",
       "      <td>35.5</td>\n",
       "      <td>14.3</td>\n",
       "      <td>6.6</td>\n",
       "      <td>48.0</td>\n",
       "      <td>38.0</td>\n",
       "      <td>150.0</td>\n",
       "      <td>2.25</td>\n",
       "      <td>0.09</td>\n",
       "      <td>3.47</td>\n",
       "      <td>578.9</td>\n",
       "      <td>5.56</td>\n",
       "    </tr>\n",
       "    <tr>\n",
       "      <th>3</th>\n",
       "      <td>OL4</td>\n",
       "      <td>25.6</td>\n",
       "      <td>44.3</td>\n",
       "      <td>38.9</td>\n",
       "      <td>11.6</td>\n",
       "      <td>5.2</td>\n",
       "      <td>51.0</td>\n",
       "      <td>41.0</td>\n",
       "      <td>150.0</td>\n",
       "      <td>1.89</td>\n",
       "      <td>0.07</td>\n",
       "      <td>3.88</td>\n",
       "      <td>576.8</td>\n",
       "      <td>7.89</td>\n",
       "    </tr>\n",
       "    <tr>\n",
       "      <th>4</th>\n",
       "      <td>OL5</td>\n",
       "      <td>25.0</td>\n",
       "      <td>45.6</td>\n",
       "      <td>34.2</td>\n",
       "      <td>17.0</td>\n",
       "      <td>3.2</td>\n",
       "      <td>55.0</td>\n",
       "      <td>45.0</td>\n",
       "      <td>150.0</td>\n",
       "      <td>1.51</td>\n",
       "      <td>0.05</td>\n",
       "      <td>5.93</td>\n",
       "      <td>574.3</td>\n",
       "      <td>16.26</td>\n",
       "    </tr>\n",
       "  </tbody>\n",
       "</table>\n",
       "</div>"
      ],
      "text/plain": [
       "  Oil Name  API Gravity     S     A     R   Ap  Oil Temperature  \\\n",
       "0      OL1         22.4  36.9  37.9  19.4  5.8             42.0   \n",
       "1      OL2         18.3  32.3  42.2  19.8  5.8             45.0   \n",
       "2      OL3         22.8  43.6  35.5  14.3  6.6             48.0   \n",
       "3      OL4         25.6  44.3  38.9  11.6  5.2             51.0   \n",
       "4      OL5         25.0  45.6  34.2  17.0  3.2             55.0   \n",
       "\n",
       "   Wall Temperature  Rotation Speed  Wall Shear Stress  Oil Viscosity  \\\n",
       "0              32.0           150.0               3.58           0.21   \n",
       "1              35.0           150.0               2.72           0.13   \n",
       "2              38.0           150.0               2.25           0.09   \n",
       "3              41.0           150.0               1.89           0.07   \n",
       "4              45.0           150.0               1.51           0.05   \n",
       "\n",
       "   Wax Crystal Solubility Coefficient  Temperature Gradient  \\\n",
       "0                               17.70                 579.0   \n",
       "1                                6.07                 578.8   \n",
       "2                                3.47                 578.9   \n",
       "3                                3.88                 576.8   \n",
       "4                                5.93                 574.3   \n",
       "\n",
       "   Wax Deposition Rate  \n",
       "0                 9.14  \n",
       "1                 4.96  \n",
       "2                 5.56  \n",
       "3                 7.89  \n",
       "4                16.26  "
      ]
     },
     "execution_count": 19,
     "metadata": {},
     "output_type": "execute_result"
    }
   ],
   "source": [
    "import numpy as np\n",
    "import pandas as pd\n",
    "\n",
    "# Load data\n",
    "data=pd.read_csv('Dataset_Wax_Deposit_Flow.csv')\n",
    "\n",
    "data.head()"
   ]
  },
  {
   "cell_type": "code",
   "execution_count": 20,
   "id": "66b0b866",
   "metadata": {
    "scrolled": true
   },
   "outputs": [
    {
     "data": {
      "text/html": [
       "<div>\n",
       "<style scoped>\n",
       "    .dataframe tbody tr th:only-of-type {\n",
       "        vertical-align: middle;\n",
       "    }\n",
       "\n",
       "    .dataframe tbody tr th {\n",
       "        vertical-align: top;\n",
       "    }\n",
       "\n",
       "    .dataframe thead th {\n",
       "        text-align: right;\n",
       "    }\n",
       "</style>\n",
       "<table border=\"1\" class=\"dataframe\">\n",
       "  <thead>\n",
       "    <tr style=\"text-align: right;\">\n",
       "      <th></th>\n",
       "      <th>API Gravity</th>\n",
       "      <th>S</th>\n",
       "      <th>A</th>\n",
       "      <th>R</th>\n",
       "      <th>Ap</th>\n",
       "      <th>Oil Temperature</th>\n",
       "      <th>Wall Temperature</th>\n",
       "      <th>Rotation Speed</th>\n",
       "      <th>Wall Shear Stress</th>\n",
       "      <th>Oil Viscosity</th>\n",
       "      <th>Wax Crystal Solubility Coefficient</th>\n",
       "      <th>Temperature Gradient</th>\n",
       "      <th>Wax Deposition Rate</th>\n",
       "    </tr>\n",
       "  </thead>\n",
       "  <tbody>\n",
       "    <tr>\n",
       "      <th>0</th>\n",
       "      <td>22.4</td>\n",
       "      <td>36.9</td>\n",
       "      <td>37.9</td>\n",
       "      <td>19.4</td>\n",
       "      <td>5.8</td>\n",
       "      <td>42.0</td>\n",
       "      <td>32.0</td>\n",
       "      <td>150.0</td>\n",
       "      <td>3.58</td>\n",
       "      <td>0.21</td>\n",
       "      <td>17.70</td>\n",
       "      <td>579.0</td>\n",
       "      <td>9.14</td>\n",
       "    </tr>\n",
       "    <tr>\n",
       "      <th>1</th>\n",
       "      <td>18.3</td>\n",
       "      <td>32.3</td>\n",
       "      <td>42.2</td>\n",
       "      <td>19.8</td>\n",
       "      <td>5.8</td>\n",
       "      <td>45.0</td>\n",
       "      <td>35.0</td>\n",
       "      <td>150.0</td>\n",
       "      <td>2.72</td>\n",
       "      <td>0.13</td>\n",
       "      <td>6.07</td>\n",
       "      <td>578.8</td>\n",
       "      <td>4.96</td>\n",
       "    </tr>\n",
       "    <tr>\n",
       "      <th>2</th>\n",
       "      <td>22.8</td>\n",
       "      <td>43.6</td>\n",
       "      <td>35.5</td>\n",
       "      <td>14.3</td>\n",
       "      <td>6.6</td>\n",
       "      <td>48.0</td>\n",
       "      <td>38.0</td>\n",
       "      <td>150.0</td>\n",
       "      <td>2.25</td>\n",
       "      <td>0.09</td>\n",
       "      <td>3.47</td>\n",
       "      <td>578.9</td>\n",
       "      <td>5.56</td>\n",
       "    </tr>\n",
       "    <tr>\n",
       "      <th>3</th>\n",
       "      <td>25.6</td>\n",
       "      <td>44.3</td>\n",
       "      <td>38.9</td>\n",
       "      <td>11.6</td>\n",
       "      <td>5.2</td>\n",
       "      <td>51.0</td>\n",
       "      <td>41.0</td>\n",
       "      <td>150.0</td>\n",
       "      <td>1.89</td>\n",
       "      <td>0.07</td>\n",
       "      <td>3.88</td>\n",
       "      <td>576.8</td>\n",
       "      <td>7.89</td>\n",
       "    </tr>\n",
       "    <tr>\n",
       "      <th>4</th>\n",
       "      <td>25.0</td>\n",
       "      <td>45.6</td>\n",
       "      <td>34.2</td>\n",
       "      <td>17.0</td>\n",
       "      <td>3.2</td>\n",
       "      <td>55.0</td>\n",
       "      <td>45.0</td>\n",
       "      <td>150.0</td>\n",
       "      <td>1.51</td>\n",
       "      <td>0.05</td>\n",
       "      <td>5.93</td>\n",
       "      <td>574.3</td>\n",
       "      <td>16.26</td>\n",
       "    </tr>\n",
       "    <tr>\n",
       "      <th>...</th>\n",
       "      <td>...</td>\n",
       "      <td>...</td>\n",
       "      <td>...</td>\n",
       "      <td>...</td>\n",
       "      <td>...</td>\n",
       "      <td>...</td>\n",
       "      <td>...</td>\n",
       "      <td>...</td>\n",
       "      <td>...</td>\n",
       "      <td>...</td>\n",
       "      <td>...</td>\n",
       "      <td>...</td>\n",
       "      <td>...</td>\n",
       "    </tr>\n",
       "    <tr>\n",
       "      <th>87</th>\n",
       "      <td>16.8</td>\n",
       "      <td>80.0</td>\n",
       "      <td>19.0</td>\n",
       "      <td>1.0</td>\n",
       "      <td>0.0</td>\n",
       "      <td>47.0</td>\n",
       "      <td>32.0</td>\n",
       "      <td>150.0</td>\n",
       "      <td>2.85</td>\n",
       "      <td>0.22</td>\n",
       "      <td>17.70</td>\n",
       "      <td>867.6</td>\n",
       "      <td>10.55</td>\n",
       "    </tr>\n",
       "    <tr>\n",
       "      <th>88</th>\n",
       "      <td>18.2</td>\n",
       "      <td>32.0</td>\n",
       "      <td>32.0</td>\n",
       "      <td>17.0</td>\n",
       "      <td>19.0</td>\n",
       "      <td>52.0</td>\n",
       "      <td>32.0</td>\n",
       "      <td>150.0</td>\n",
       "      <td>2.33</td>\n",
       "      <td>0.23</td>\n",
       "      <td>17.70</td>\n",
       "      <td>1152.0</td>\n",
       "      <td>12.25</td>\n",
       "    </tr>\n",
       "    <tr>\n",
       "      <th>89</th>\n",
       "      <td>18.3</td>\n",
       "      <td>34.0</td>\n",
       "      <td>31.0</td>\n",
       "      <td>20.0</td>\n",
       "      <td>15.0</td>\n",
       "      <td>50.0</td>\n",
       "      <td>45.0</td>\n",
       "      <td>150.0</td>\n",
       "      <td>1.76</td>\n",
       "      <td>0.05</td>\n",
       "      <td>5.93</td>\n",
       "      <td>288.4</td>\n",
       "      <td>11.33</td>\n",
       "    </tr>\n",
       "    <tr>\n",
       "      <th>90</th>\n",
       "      <td>18.8</td>\n",
       "      <td>38.0</td>\n",
       "      <td>29.0</td>\n",
       "      <td>20.0</td>\n",
       "      <td>13.0</td>\n",
       "      <td>60.0</td>\n",
       "      <td>45.0</td>\n",
       "      <td>150.0</td>\n",
       "      <td>1.32</td>\n",
       "      <td>0.05</td>\n",
       "      <td>5.93</td>\n",
       "      <td>859.3</td>\n",
       "      <td>24.22</td>\n",
       "    </tr>\n",
       "    <tr>\n",
       "      <th>91</th>\n",
       "      <td>1.0</td>\n",
       "      <td>38.0</td>\n",
       "      <td>40.0</td>\n",
       "      <td>14.0</td>\n",
       "      <td>8.0</td>\n",
       "      <td>65.0</td>\n",
       "      <td>45.0</td>\n",
       "      <td>150.0</td>\n",
       "      <td>1.17</td>\n",
       "      <td>0.05</td>\n",
       "      <td>5.93</td>\n",
       "      <td>1143.0</td>\n",
       "      <td>25.44</td>\n",
       "    </tr>\n",
       "  </tbody>\n",
       "</table>\n",
       "<p>92 rows × 13 columns</p>\n",
       "</div>"
      ],
      "text/plain": [
       "    API Gravity     S     A     R    Ap  Oil Temperature  Wall Temperature  \\\n",
       "0          22.4  36.9  37.9  19.4   5.8             42.0              32.0   \n",
       "1          18.3  32.3  42.2  19.8   5.8             45.0              35.0   \n",
       "2          22.8  43.6  35.5  14.3   6.6             48.0              38.0   \n",
       "3          25.6  44.3  38.9  11.6   5.2             51.0              41.0   \n",
       "4          25.0  45.6  34.2  17.0   3.2             55.0              45.0   \n",
       "..          ...   ...   ...   ...   ...              ...               ...   \n",
       "87         16.8  80.0  19.0   1.0   0.0             47.0              32.0   \n",
       "88         18.2  32.0  32.0  17.0  19.0             52.0              32.0   \n",
       "89         18.3  34.0  31.0  20.0  15.0             50.0              45.0   \n",
       "90         18.8  38.0  29.0  20.0  13.0             60.0              45.0   \n",
       "91          1.0  38.0  40.0  14.0   8.0             65.0              45.0   \n",
       "\n",
       "    Rotation Speed  Wall Shear Stress  Oil Viscosity  \\\n",
       "0            150.0               3.58           0.21   \n",
       "1            150.0               2.72           0.13   \n",
       "2            150.0               2.25           0.09   \n",
       "3            150.0               1.89           0.07   \n",
       "4            150.0               1.51           0.05   \n",
       "..             ...                ...            ...   \n",
       "87           150.0               2.85           0.22   \n",
       "88           150.0               2.33           0.23   \n",
       "89           150.0               1.76           0.05   \n",
       "90           150.0               1.32           0.05   \n",
       "91           150.0               1.17           0.05   \n",
       "\n",
       "    Wax Crystal Solubility Coefficient  Temperature Gradient  \\\n",
       "0                                17.70                 579.0   \n",
       "1                                 6.07                 578.8   \n",
       "2                                 3.47                 578.9   \n",
       "3                                 3.88                 576.8   \n",
       "4                                 5.93                 574.3   \n",
       "..                                 ...                   ...   \n",
       "87                               17.70                 867.6   \n",
       "88                               17.70                1152.0   \n",
       "89                                5.93                 288.4   \n",
       "90                                5.93                 859.3   \n",
       "91                                5.93                1143.0   \n",
       "\n",
       "    Wax Deposition Rate  \n",
       "0                  9.14  \n",
       "1                  4.96  \n",
       "2                  5.56  \n",
       "3                  7.89  \n",
       "4                 16.26  \n",
       "..                  ...  \n",
       "87                10.55  \n",
       "88                12.25  \n",
       "89                11.33  \n",
       "90                24.22  \n",
       "91                25.44  \n",
       "\n",
       "[92 rows x 13 columns]"
      ]
     },
     "metadata": {},
     "output_type": "display_data"
    }
   ],
   "source": [
    "df = data.iloc[:, 1:]\n",
    "display(df)"
   ]
  },
  {
   "cell_type": "code",
   "execution_count": 21,
   "id": "33d83a89",
   "metadata": {},
   "outputs": [],
   "source": [
    "# Spliting data into Feature and\n",
    "X=df.iloc[:, 5:-1]\n",
    "y=df.iloc[:,-1]\n",
    "\n",
    "# Import train_test_split function\n",
    "from sklearn.model_selection import train_test_split\n",
    "\n",
    "# Split dataset into training set and test set\n",
    "X_train, X_test, y_train, y_test = train_test_split(X, y, test_size=0.1, random_state=42)  # 70% training and 30% test"
   ]
  },
  {
   "cell_type": "code",
   "execution_count": 22,
   "id": "f7cf1cd6",
   "metadata": {
    "scrolled": true
   },
   "outputs": [
    {
     "data": {
      "text/html": [
       "<div>\n",
       "<style scoped>\n",
       "    .dataframe tbody tr th:only-of-type {\n",
       "        vertical-align: middle;\n",
       "    }\n",
       "\n",
       "    .dataframe tbody tr th {\n",
       "        vertical-align: top;\n",
       "    }\n",
       "\n",
       "    .dataframe thead th {\n",
       "        text-align: right;\n",
       "    }\n",
       "</style>\n",
       "<table border=\"1\" class=\"dataframe\">\n",
       "  <thead>\n",
       "    <tr style=\"text-align: right;\">\n",
       "      <th></th>\n",
       "      <th>Oil Temperature</th>\n",
       "      <th>Wall Temperature</th>\n",
       "      <th>Rotation Speed</th>\n",
       "      <th>Wall Shear Stress</th>\n",
       "      <th>Oil Viscosity</th>\n",
       "      <th>Wax Crystal Solubility Coefficient</th>\n",
       "      <th>Temperature Gradient</th>\n",
       "    </tr>\n",
       "  </thead>\n",
       "  <tbody>\n",
       "    <tr>\n",
       "      <th>83</th>\n",
       "      <td>51.0</td>\n",
       "      <td>41.0</td>\n",
       "      <td>150.0</td>\n",
       "      <td>1.89</td>\n",
       "      <td>0.07</td>\n",
       "      <td>3.88</td>\n",
       "      <td>576.8</td>\n",
       "    </tr>\n",
       "    <tr>\n",
       "      <th>35</th>\n",
       "      <td>51.0</td>\n",
       "      <td>41.0</td>\n",
       "      <td>150.0</td>\n",
       "      <td>1.89</td>\n",
       "      <td>0.07</td>\n",
       "      <td>3.88</td>\n",
       "      <td>576.8</td>\n",
       "    </tr>\n",
       "    <tr>\n",
       "      <th>89</th>\n",
       "      <td>50.0</td>\n",
       "      <td>45.0</td>\n",
       "      <td>150.0</td>\n",
       "      <td>1.76</td>\n",
       "      <td>0.05</td>\n",
       "      <td>5.93</td>\n",
       "      <td>288.4</td>\n",
       "    </tr>\n",
       "    <tr>\n",
       "      <th>62</th>\n",
       "      <td>42.0</td>\n",
       "      <td>32.0</td>\n",
       "      <td>50.0</td>\n",
       "      <td>1.23</td>\n",
       "      <td>0.27</td>\n",
       "      <td>17.70</td>\n",
       "      <td>579.0</td>\n",
       "    </tr>\n",
       "    <tr>\n",
       "      <th>12</th>\n",
       "      <td>55.0</td>\n",
       "      <td>45.0</td>\n",
       "      <td>50.0</td>\n",
       "      <td>0.50</td>\n",
       "      <td>0.05</td>\n",
       "      <td>5.93</td>\n",
       "      <td>574.3</td>\n",
       "    </tr>\n",
       "    <tr>\n",
       "      <th>...</th>\n",
       "      <td>...</td>\n",
       "      <td>...</td>\n",
       "      <td>...</td>\n",
       "      <td>...</td>\n",
       "      <td>...</td>\n",
       "      <td>...</td>\n",
       "      <td>...</td>\n",
       "    </tr>\n",
       "    <tr>\n",
       "      <th>20</th>\n",
       "      <td>55.0</td>\n",
       "      <td>45.0</td>\n",
       "      <td>150.0</td>\n",
       "      <td>1.51</td>\n",
       "      <td>0.05</td>\n",
       "      <td>5.93</td>\n",
       "      <td>574.3</td>\n",
       "    </tr>\n",
       "    <tr>\n",
       "      <th>60</th>\n",
       "      <td>55.0</td>\n",
       "      <td>45.0</td>\n",
       "      <td>50.0</td>\n",
       "      <td>0.50</td>\n",
       "      <td>0.05</td>\n",
       "      <td>5.93</td>\n",
       "      <td>574.3</td>\n",
       "    </tr>\n",
       "    <tr>\n",
       "      <th>71</th>\n",
       "      <td>47.0</td>\n",
       "      <td>32.0</td>\n",
       "      <td>150.0</td>\n",
       "      <td>2.85</td>\n",
       "      <td>0.22</td>\n",
       "      <td>17.70</td>\n",
       "      <td>867.6</td>\n",
       "    </tr>\n",
       "    <tr>\n",
       "      <th>14</th>\n",
       "      <td>42.0</td>\n",
       "      <td>32.0</td>\n",
       "      <td>50.0</td>\n",
       "      <td>1.23</td>\n",
       "      <td>0.27</td>\n",
       "      <td>17.70</td>\n",
       "      <td>579.0</td>\n",
       "    </tr>\n",
       "    <tr>\n",
       "      <th>51</th>\n",
       "      <td>51.0</td>\n",
       "      <td>41.0</td>\n",
       "      <td>150.0</td>\n",
       "      <td>1.89</td>\n",
       "      <td>0.07</td>\n",
       "      <td>3.88</td>\n",
       "      <td>576.8</td>\n",
       "    </tr>\n",
       "  </tbody>\n",
       "</table>\n",
       "<p>82 rows × 7 columns</p>\n",
       "</div>"
      ],
      "text/plain": [
       "    Oil Temperature  Wall Temperature  Rotation Speed  Wall Shear Stress  \\\n",
       "83             51.0              41.0           150.0               1.89   \n",
       "35             51.0              41.0           150.0               1.89   \n",
       "89             50.0              45.0           150.0               1.76   \n",
       "62             42.0              32.0            50.0               1.23   \n",
       "12             55.0              45.0            50.0               0.50   \n",
       "..              ...               ...             ...                ...   \n",
       "20             55.0              45.0           150.0               1.51   \n",
       "60             55.0              45.0            50.0               0.50   \n",
       "71             47.0              32.0           150.0               2.85   \n",
       "14             42.0              32.0            50.0               1.23   \n",
       "51             51.0              41.0           150.0               1.89   \n",
       "\n",
       "    Oil Viscosity  Wax Crystal Solubility Coefficient  Temperature Gradient  \n",
       "83           0.07                                3.88                 576.8  \n",
       "35           0.07                                3.88                 576.8  \n",
       "89           0.05                                5.93                 288.4  \n",
       "62           0.27                               17.70                 579.0  \n",
       "12           0.05                                5.93                 574.3  \n",
       "..            ...                                 ...                   ...  \n",
       "20           0.05                                5.93                 574.3  \n",
       "60           0.05                                5.93                 574.3  \n",
       "71           0.22                               17.70                 867.6  \n",
       "14           0.27                               17.70                 579.0  \n",
       "51           0.07                                3.88                 576.8  \n",
       "\n",
       "[82 rows x 7 columns]"
      ]
     },
     "metadata": {},
     "output_type": "display_data"
    },
    {
     "data": {
      "text/html": [
       "<div>\n",
       "<style scoped>\n",
       "    .dataframe tbody tr th:only-of-type {\n",
       "        vertical-align: middle;\n",
       "    }\n",
       "\n",
       "    .dataframe tbody tr th {\n",
       "        vertical-align: top;\n",
       "    }\n",
       "\n",
       "    .dataframe thead th {\n",
       "        text-align: right;\n",
       "    }\n",
       "</style>\n",
       "<table border=\"1\" class=\"dataframe\">\n",
       "  <thead>\n",
       "    <tr style=\"text-align: right;\">\n",
       "      <th></th>\n",
       "      <th>Oil Temperature</th>\n",
       "      <th>Wall Temperature</th>\n",
       "      <th>Rotation Speed</th>\n",
       "      <th>Wall Shear Stress</th>\n",
       "      <th>Oil Viscosity</th>\n",
       "      <th>Wax Crystal Solubility Coefficient</th>\n",
       "      <th>Temperature Gradient</th>\n",
       "    </tr>\n",
       "  </thead>\n",
       "  <tbody>\n",
       "    <tr>\n",
       "      <th>40</th>\n",
       "      <td>52.0</td>\n",
       "      <td>32.0</td>\n",
       "      <td>150.0</td>\n",
       "      <td>2.33</td>\n",
       "      <td>0.23</td>\n",
       "      <td>17.70</td>\n",
       "      <td>1152.0</td>\n",
       "    </tr>\n",
       "    <tr>\n",
       "      <th>22</th>\n",
       "      <td>37.0</td>\n",
       "      <td>32.0</td>\n",
       "      <td>150.0</td>\n",
       "      <td>4.87</td>\n",
       "      <td>0.19</td>\n",
       "      <td>17.70</td>\n",
       "      <td>291.4</td>\n",
       "    </tr>\n",
       "    <tr>\n",
       "      <th>55</th>\n",
       "      <td>47.0</td>\n",
       "      <td>32.0</td>\n",
       "      <td>150.0</td>\n",
       "      <td>2.85</td>\n",
       "      <td>0.22</td>\n",
       "      <td>17.70</td>\n",
       "      <td>867.6</td>\n",
       "    </tr>\n",
       "    <tr>\n",
       "      <th>72</th>\n",
       "      <td>52.0</td>\n",
       "      <td>32.0</td>\n",
       "      <td>150.0</td>\n",
       "      <td>2.33</td>\n",
       "      <td>0.23</td>\n",
       "      <td>17.70</td>\n",
       "      <td>1152.0</td>\n",
       "    </tr>\n",
       "    <tr>\n",
       "      <th>0</th>\n",
       "      <td>42.0</td>\n",
       "      <td>32.0</td>\n",
       "      <td>150.0</td>\n",
       "      <td>3.58</td>\n",
       "      <td>0.21</td>\n",
       "      <td>17.70</td>\n",
       "      <td>579.0</td>\n",
       "    </tr>\n",
       "    <tr>\n",
       "      <th>26</th>\n",
       "      <td>60.0</td>\n",
       "      <td>45.0</td>\n",
       "      <td>150.0</td>\n",
       "      <td>1.32</td>\n",
       "      <td>0.05</td>\n",
       "      <td>5.93</td>\n",
       "      <td>859.3</td>\n",
       "    </tr>\n",
       "    <tr>\n",
       "      <th>39</th>\n",
       "      <td>47.0</td>\n",
       "      <td>32.0</td>\n",
       "      <td>150.0</td>\n",
       "      <td>2.85</td>\n",
       "      <td>0.22</td>\n",
       "      <td>17.70</td>\n",
       "      <td>867.6</td>\n",
       "    </tr>\n",
       "    <tr>\n",
       "      <th>67</th>\n",
       "      <td>51.0</td>\n",
       "      <td>41.0</td>\n",
       "      <td>150.0</td>\n",
       "      <td>1.89</td>\n",
       "      <td>0.07</td>\n",
       "      <td>3.88</td>\n",
       "      <td>576.8</td>\n",
       "    </tr>\n",
       "    <tr>\n",
       "      <th>10</th>\n",
       "      <td>60.0</td>\n",
       "      <td>45.0</td>\n",
       "      <td>150.0</td>\n",
       "      <td>1.32</td>\n",
       "      <td>0.05</td>\n",
       "      <td>5.93</td>\n",
       "      <td>859.3</td>\n",
       "    </tr>\n",
       "    <tr>\n",
       "      <th>44</th>\n",
       "      <td>55.0</td>\n",
       "      <td>45.0</td>\n",
       "      <td>50.0</td>\n",
       "      <td>0.50</td>\n",
       "      <td>0.05</td>\n",
       "      <td>5.93</td>\n",
       "      <td>574.3</td>\n",
       "    </tr>\n",
       "  </tbody>\n",
       "</table>\n",
       "</div>"
      ],
      "text/plain": [
       "    Oil Temperature  Wall Temperature  Rotation Speed  Wall Shear Stress  \\\n",
       "40             52.0              32.0           150.0               2.33   \n",
       "22             37.0              32.0           150.0               4.87   \n",
       "55             47.0              32.0           150.0               2.85   \n",
       "72             52.0              32.0           150.0               2.33   \n",
       "0              42.0              32.0           150.0               3.58   \n",
       "26             60.0              45.0           150.0               1.32   \n",
       "39             47.0              32.0           150.0               2.85   \n",
       "67             51.0              41.0           150.0               1.89   \n",
       "10             60.0              45.0           150.0               1.32   \n",
       "44             55.0              45.0            50.0               0.50   \n",
       "\n",
       "    Oil Viscosity  Wax Crystal Solubility Coefficient  Temperature Gradient  \n",
       "40           0.23                               17.70                1152.0  \n",
       "22           0.19                               17.70                 291.4  \n",
       "55           0.22                               17.70                 867.6  \n",
       "72           0.23                               17.70                1152.0  \n",
       "0            0.21                               17.70                 579.0  \n",
       "26           0.05                                5.93                 859.3  \n",
       "39           0.22                               17.70                 867.6  \n",
       "67           0.07                                3.88                 576.8  \n",
       "10           0.05                                5.93                 859.3  \n",
       "44           0.05                                5.93                 574.3  "
      ]
     },
     "metadata": {},
     "output_type": "display_data"
    },
    {
     "data": {
      "text/plain": [
       "83     7.89\n",
       "35     7.89\n",
       "89    11.33\n",
       "62    12.10\n",
       "12    29.75\n",
       "      ...  \n",
       "20    16.26\n",
       "60    29.75\n",
       "71    10.55\n",
       "14    12.10\n",
       "51     7.89\n",
       "Name: Wax Deposition Rate, Length: 82, dtype: float64"
      ]
     },
     "metadata": {},
     "output_type": "display_data"
    },
    {
     "data": {
      "text/plain": [
       "40    12.25\n",
       "22     5.21\n",
       "55    10.55\n",
       "72    12.25\n",
       "0      9.14\n",
       "26    24.22\n",
       "39    10.55\n",
       "67     7.89\n",
       "10    24.22\n",
       "44    29.75\n",
       "Name: Wax Deposition Rate, dtype: float64"
      ]
     },
     "metadata": {},
     "output_type": "display_data"
    }
   ],
   "source": [
    "display(X_train,X_test, y_train,y_test)"
   ]
  },
  {
   "cell_type": "code",
   "execution_count": 26,
   "id": "8b42eca3",
   "metadata": {},
   "outputs": [],
   "source": [
    "numerical_features = ['Oil Temperature','Wall Temperature','Rotation Speed','Wall Shear Stress','Oil Viscosity','Wax Crystal Solubility Coefficient','Temperature Gradient']\n"
   ]
  },
  {
   "cell_type": "markdown",
   "id": "cb40e931",
   "metadata": {},
   "source": [
    "### Model 01 - Multi-Layer Perceptron"
   ]
  },
  {
   "cell_type": "code",
   "execution_count": 30,
   "id": "056a00b8",
   "metadata": {},
   "outputs": [
    {
     "data": {
      "text/plain": [
       "ColumnTransformer(transformers=[('num', QuantileTransformer(n_quantiles=10),\n",
       "                                 ['Oil Temperature', 'Wall Temperature',\n",
       "                                  'Rotation Speed', 'Wall Shear Stress',\n",
       "                                  'Oil Viscosity',\n",
       "                                  'Wax Crystal Solubility Coefficient',\n",
       "                                  'Temperature Gradient'])])"
      ]
     },
     "execution_count": 30,
     "metadata": {},
     "output_type": "execute_result"
    }
   ],
   "source": [
    "from sklearn.compose import ColumnTransformer\n",
    "from sklearn.preprocessing import OneHotEncoder, QuantileTransformer\n",
    "\n",
    "mlp_preprocessor = ColumnTransformer(\n",
    "    transformers=[\n",
    "        (\"num\", QuantileTransformer(n_quantiles=10), numerical_features),\n",
    "    ]\n",
    ")\n",
    "mlp_preprocessor"
   ]
  },
  {
   "cell_type": "code",
   "execution_count": 32,
   "id": "9eb74dd4",
   "metadata": {},
   "outputs": [
    {
     "name": "stdout",
     "output_type": "stream",
     "text": [
      "Training MLPRegressor...\n",
      "done in 3.128s\n",
      "Test R2 score: 0.99\n"
     ]
    }
   ],
   "source": [
    "from time import time\n",
    "\n",
    "from sklearn.neural_network import MLPRegressor\n",
    "from sklearn.pipeline import make_pipeline\n",
    "\n",
    "print(\"Training MLPRegressor...\")\n",
    "tic = time()\n",
    "mlp_model = make_pipeline(\n",
    "    mlp_preprocessor,\n",
    "    MLPRegressor(\n",
    "        activation= 'tanh', alpha= 0.0001, hidden_layer_sizes= (150, 100, 50), learning_rate= 'adaptive', max_iter= 10000, solver= 'adam'\n",
    "\n",
    "    ),\n",
    ")\n",
    "mlp_model.fit(X_train, y_train)\n",
    "print(f\"done in {time() - tic:.3f}s\")\n",
    "print(f\"Test R2 score: {mlp_model.score(X_test, y_test):.2f}\")"
   ]
  },
  {
   "cell_type": "code",
   "execution_count": 36,
   "id": "d1ca4aca",
   "metadata": {},
   "outputs": [],
   "source": [
    "param_grid_mlp = {\n",
    "#     'hidden_layer_sizes': [(150,100,50), (120,80,40), (100,50,30)],\n",
    "#     'max_iter': [50, 100, 1000, 10000],\n",
    "#     'activation': ['identity', 'logistic', 'tanh', 'relu'],\n",
    "#     'solver': ['sgd', 'adam', 'lbfgs'],\n",
    "#     'alpha': [0.0001, 0.05],\n",
    "#     'learning_rate': ['constant', 'invscaling', 'adaptive'],\n",
    "    'hidden_layer_sizes': [(150,100,50)],\n",
    "    'max_iter': [10000],\n",
    "    'activation': ['tanh'],\n",
    "    'solver': ['adam'],\n",
    "    'alpha': [0.0001],\n",
    "    'learning_rate': ['adaptive'],\n",
    "}"
   ]
  },
  {
   "cell_type": "code",
   "execution_count": 37,
   "id": "6942ded1",
   "metadata": {},
   "outputs": [
    {
     "data": {
      "text/plain": [
       "dict_keys(['activation', 'alpha', 'batch_size', 'beta_1', 'beta_2', 'early_stopping', 'epsilon', 'hidden_layer_sizes', 'learning_rate', 'learning_rate_init', 'max_fun', 'max_iter', 'momentum', 'n_iter_no_change', 'nesterovs_momentum', 'power_t', 'random_state', 'shuffle', 'solver', 'tol', 'validation_fraction', 'verbose', 'warm_start'])"
      ]
     },
     "execution_count": 37,
     "metadata": {},
     "output_type": "execute_result"
    }
   ],
   "source": [
    "MLPRegressor().get_params().keys()"
   ]
  },
  {
   "cell_type": "code",
   "execution_count": 38,
   "id": "4708cb78",
   "metadata": {
    "scrolled": true
   },
   "outputs": [
    {
     "name": "stdout",
     "output_type": "stream",
     "text": [
      "Fitting 5 folds for each of 1 candidates, totalling 5 fits\n",
      "{'activation': 'tanh', 'alpha': 0.0001, 'hidden_layer_sizes': (150, 100, 50), 'learning_rate': 'adaptive', 'max_iter': 10000, 'solver': 'adam'}\n"
     ]
    }
   ],
   "source": [
    "from sklearn.model_selection import GridSearchCV\n",
    "grid_mlp = GridSearchCV(MLPRegressor(), param_grid_mlp, n_jobs= -1, cv=5, verbose= 5)\n",
    "grid_mlp.fit(X_train, y_train)\n",
    "\n",
    "print(grid_mlp.best_params_)"
   ]
  },
  {
   "cell_type": "code",
   "execution_count": 39,
   "id": "c729f9b6",
   "metadata": {},
   "outputs": [],
   "source": [
    "grid_predictions_mlp = grid_mlp.predict(X_test) \n"
   ]
  },
  {
   "cell_type": "code",
   "execution_count": 40,
   "id": "870c5147",
   "metadata": {},
   "outputs": [],
   "source": [
    "grid_pred_train_mlp =  grid_mlp.predict(X_train)"
   ]
  },
  {
   "cell_type": "code",
   "execution_count": 41,
   "id": "4cf15113",
   "metadata": {},
   "outputs": [],
   "source": [
    "grid_pred_all_mlp = grid_mlp.predict(X)"
   ]
  },
  {
   "cell_type": "code",
   "execution_count": 42,
   "id": "55a229fe",
   "metadata": {
    "scrolled": true
   },
   "outputs": [
    {
     "data": {
      "text/plain": [
       "array([12.33567112,  5.44440566, 10.70025777, 12.33567112,  9.44929715,\n",
       "       24.35022045, 10.70025777,  8.48722844, 24.35022045, 25.51500507])"
      ]
     },
     "execution_count": 42,
     "metadata": {},
     "output_type": "execute_result"
    }
   ],
   "source": [
    "grid_predictions_mlp"
   ]
  },
  {
   "cell_type": "code",
   "execution_count": 43,
   "id": "6e188112",
   "metadata": {},
   "outputs": [
    {
     "data": {
      "text/plain": [
       "array([ 8.48722844,  8.48722844, 11.59116684, 12.16588085, 25.51500507,\n",
       "       17.00017678,  6.05687212, 25.51500507,  5.57895743,  5.57895743,\n",
       "       10.12796003, 17.00017678, 12.16588085, 12.16588085,  5.57895743,\n",
       "       25.49332671,  6.05687212,  4.64071524, 10.12796003, 20.05263608,\n",
       "       11.59116684,  5.44440566,  4.64071524, 24.35022045, 10.12796003,\n",
       "        9.44929715, 20.05263608,  6.05687212, 10.70025777,  9.44929715,\n",
       "       25.49332671,  8.48722844, 25.51500507, 11.59116684,  4.64071524,\n",
       "       20.05263608, 12.33567112,  8.48722844,  5.57895743,  5.44440566,\n",
       "       12.33567112, 11.59116684,  5.44440566, 12.33567112, 17.00017678,\n",
       "        5.44440566, 12.33567112, 25.49332671,  5.44440566, 25.49332671,\n",
       "        6.05687212, 25.49332671, 12.16588085,  9.44929715, 20.05263608,\n",
       "       24.35022045, 17.00017678, 11.59116684, 24.35022045,  9.44929715,\n",
       "        5.57895743, 11.59116684,  9.44929715, 10.70025777, 25.49332671,\n",
       "       10.12796003, 10.12796003,  4.64071524, 20.05263608,  5.57895743,\n",
       "       17.00017678,  4.64071524,  6.05687212, 10.70025777,  4.64071524,\n",
       "       24.35022045,  6.05687212, 17.00017678, 25.51500507, 10.70025777,\n",
       "       12.16588085,  8.48722844])"
      ]
     },
     "execution_count": 43,
     "metadata": {},
     "output_type": "execute_result"
    }
   ],
   "source": [
    "grid_pred_train_mlp"
   ]
  },
  {
   "cell_type": "code",
   "execution_count": 44,
   "id": "00720fdd",
   "metadata": {},
   "outputs": [
    {
     "data": {
      "text/plain": [
       "array([ 9.44929715,  5.57895743,  6.05687212,  8.48722844, 17.00017678,\n",
       "        4.64071524,  5.44440566, 10.70025777, 12.33567112, 11.59116684,\n",
       "       24.35022045, 25.49332671, 25.51500507, 20.05263608, 12.16588085,\n",
       "       10.12796003,  9.44929715,  5.57895743,  6.05687212,  8.48722844,\n",
       "       17.00017678,  4.64071524,  5.44440566, 10.70025777, 12.33567112,\n",
       "       11.59116684, 24.35022045, 25.49332671, 25.51500507, 20.05263608,\n",
       "       12.16588085, 10.12796003,  9.44929715,  5.57895743,  6.05687212,\n",
       "        8.48722844, 17.00017678,  4.64071524,  5.44440566, 10.70025777,\n",
       "       12.33567112, 11.59116684, 24.35022045, 25.49332671, 25.51500507,\n",
       "       20.05263608, 12.16588085, 10.12796003,  9.44929715,  5.57895743,\n",
       "        6.05687212,  8.48722844, 17.00017678,  4.64071524,  5.44440566,\n",
       "       10.70025777, 12.33567112, 11.59116684, 24.35022045, 25.49332671,\n",
       "       25.51500507, 20.05263608, 12.16588085, 10.12796003,  9.44929715,\n",
       "        5.57895743,  6.05687212,  8.48722844, 17.00017678,  4.64071524,\n",
       "        5.44440566, 10.70025777, 12.33567112, 11.59116684, 24.35022045,\n",
       "       25.49332671, 25.51500507, 20.05263608, 12.16588085, 10.12796003,\n",
       "        9.44929715,  5.57895743,  6.05687212,  8.48722844, 17.00017678,\n",
       "        4.64071524,  5.44440566, 10.70025777, 12.33567112, 11.59116684,\n",
       "       24.35022045, 25.49332671])"
      ]
     },
     "execution_count": 44,
     "metadata": {},
     "output_type": "execute_result"
    }
   ],
   "source": [
    "grid_pred_all_mlp"
   ]
  },
  {
   "cell_type": "code",
   "execution_count": 45,
   "id": "591d40a5",
   "metadata": {},
   "outputs": [],
   "source": [
    "y=df.iloc[:,-1]"
   ]
  },
  {
   "cell_type": "code",
   "execution_count": 46,
   "id": "fdbd83ba",
   "metadata": {
    "scrolled": true
   },
   "outputs": [
    {
     "name": "stdout",
     "output_type": "stream",
     "text": [
      "R2 score: Test 0.9701735356808663\n",
      "R2 score: Train 0.9818227946072734\n",
      "R2 score: Train 0.9805807292603077\n"
     ]
    }
   ],
   "source": [
    "from sklearn.metrics import r2_score\n",
    "print('R2 score: Test', r2_score(y_test, grid_predictions_mlp))\n",
    "print('R2 score: Train', r2_score(y_train, grid_pred_train_mlp))\n",
    "print('R2 score: Train', r2_score(y, grid_pred_all_mlp))"
   ]
  },
  {
   "cell_type": "code",
   "execution_count": 47,
   "id": "0117cccb",
   "metadata": {},
   "outputs": [
    {
     "name": "stdout",
     "output_type": "stream",
     "text": [
      "RMSE: Test 1.8536223252212323\n",
      "RMSE: Train 1.0311131863505167\n",
      "RMSE: Train 1.1205163536190725\n"
     ]
    }
   ],
   "source": [
    "from sklearn.metrics import mean_squared_error\n",
    "print('RMSE: Test', mean_squared_error(y_test, grid_predictions_mlp))\n",
    "print('RMSE: Train', mean_squared_error(y_train, grid_pred_train_mlp))\n",
    "print('RMSE: Train', mean_squared_error(y, grid_pred_all_mlp))"
   ]
  },
  {
   "cell_type": "code",
   "execution_count": 50,
   "id": "f5117914",
   "metadata": {
    "scrolled": true
   },
   "outputs": [
    {
     "data": {
      "image/png": "[encoded data removed]",
      "text/plain": [
       "<Figure size 432x288 with 1 Axes>"
      ]
     },
     "metadata": {
      "needs_background": "light"
     },
     "output_type": "display_data"
    }
   ],
   "source": [
    "import matplotlib.pyplot as plt\n",
    "x_line = np.linspace(0, 30, 100)\n",
    "y_line = np.linspace(0, 30, 100)\n",
    "# Plot the arrays\n",
    "plt.scatter(y_test, grid_predictions_mlp,color = 'red', s=10, label = 'test')\n",
    "plt.scatter(y_train, grid_pred_train_mlp,color = 'blue', s=5, label = 'train')\n",
    "plt.plot(x_line,y_line)\n",
    "\n",
    "# Add labels and title\n",
    "plt.xlabel(\"Predicted rate of wax deposition\")\n",
    "plt.ylabel(\"Measured rate of wax deposition\")\n",
    "plt.title(\"Cross plots of the established MLP models for diffusion weight percent of deposited wax\")\n",
    "plt.legend()\n",
    "# Show the plot\n",
    "plt.show()"
   ]
  },
  {
   "cell_type": "code",
   "execution_count": 53,
   "id": "8be4df81",
   "metadata": {
    "scrolled": true
   },
   "outputs": [
    {
     "data": {
      "text/plain": [
       "<function matplotlib.pyplot.plot(*args, scalex=True, scaley=True, data=None, **kwargs)>"
      ]
     },
     "execution_count": 53,
     "metadata": {},
     "output_type": "execute_result"
    },
    {
     "data": {
      "image/png": "[encoded data removed]",
      "text/plain": [
       "<Figure size 432x288 with 1 Axes>"
      ]
     },
     "metadata": {
      "needs_background": "light"
     },
     "output_type": "display_data"
    }
   ],
   "source": [
    "error = []\n",
    "i=0\n",
    "error = y_test-grid_predictions_mlp\n",
    "plt.scatter(y_test, error, color='red', s=10, label = 'test')\n",
    "error_pred = y_train-grid_pred_train_mlp\n",
    "plt.scatter(y_train, error_pred, color = 'blue', s=5, label = 'train')\n",
    "x = [0,30]\n",
    "y_1 = [0,0]\n",
    "plt.plot(x,y_1)\n",
    "plt.ylabel(\"Error in Prediction of rate of wax deposition\")\n",
    "plt.xlabel(\"Measured rate of wax deposition\")\n",
    "plt.title(\"Error distribution plot for the proposed MLP-LMA model\")\n",
    "plt.legend()\n",
    "plt.plot\n"
   ]
  },
  {
   "cell_type": "code",
   "execution_count": 54,
   "id": "9528f6f9",
   "metadata": {
    "scrolled": true
   },
   "outputs": [
    {
     "name": "stdout",
     "output_type": "stream",
     "text": [
      "Requirement already satisfied: scikit-optimize in c:\\users\\amanmsi\\anaconda3\\lib\\site-packages (0.9.0)\n",
      "Requirement already satisfied: joblib>=0.11 in c:\\users\\amanmsi\\anaconda3\\lib\\site-packages (from scikit-optimize) (1.1.0)\n",
      "Requirement already satisfied: pyaml>=16.9 in c:\\users\\amanmsi\\anaconda3\\lib\\site-packages (from scikit-optimize) (23.9.7)\n",
      "Requirement already satisfied: numpy>=1.13.3 in c:\\users\\amanmsi\\anaconda3\\lib\\site-packages (from scikit-optimize) (1.21.6)\n",
      "Requirement already satisfied: scipy>=0.19.1 in c:\\users\\amanmsi\\anaconda3\\lib\\site-packages (from scikit-optimize) (1.7.3)\n",
      "Requirement already satisfied: scikit-learn>=0.20.0 in c:\\users\\amanmsi\\anaconda3\\lib\\site-packages (from scikit-optimize) (1.0.2)\n",
      "Requirement already satisfied: PyYAML in c:\\users\\amanmsi\\anaconda3\\lib\\site-packages (from pyaml>=16.9->scikit-optimize) (6.0)\n",
      "Requirement already satisfied: threadpoolctl>=2.0.0 in c:\\users\\amanmsi\\anaconda3\\lib\\site-packages (from scikit-learn>=0.20.0->scikit-optimize) (2.2.0)\n"
     ]
    }
   ],
   "source": [
    "import sys\n",
    "!{sys.executable} -m pip install scikit-optimize"
   ]
  },
  {
   "cell_type": "code",
   "execution_count": 55,
   "id": "416c9795",
   "metadata": {},
   "outputs": [
    {
     "data": {
      "text/plain": [
       "dict_keys(['activation', 'alpha', 'batch_size', 'beta_1', 'beta_2', 'early_stopping', 'epsilon', 'hidden_layer_sizes', 'learning_rate', 'learning_rate_init', 'max_fun', 'max_iter', 'momentum', 'n_iter_no_change', 'nesterovs_momentum', 'power_t', 'random_state', 'shuffle', 'solver', 'tol', 'validation_fraction', 'verbose', 'warm_start'])"
      ]
     },
     "execution_count": 55,
     "metadata": {},
     "output_type": "execute_result"
    }
   ],
   "source": [
    "MLPRegressor().get_params().keys()"
   ]
  },
  {
   "cell_type": "markdown",
   "id": "c92a85ce",
   "metadata": {},
   "source": [
    "### Model 02 - SVM"
   ]
  },
  {
   "cell_type": "code",
   "execution_count": 56,
   "id": "0cf284f9",
   "metadata": {},
   "outputs": [],
   "source": [
    "from sklearn.svm import SVR"
   ]
  },
  {
   "cell_type": "code",
   "execution_count": 58,
   "id": "487ac490",
   "metadata": {
    "scrolled": true
   },
   "outputs": [
    {
     "name": "stdout",
     "output_type": "stream",
     "text": [
      "Fitting 5 folds for each of 72 candidates, totalling 360 fits\n",
      "[CV 1/5] END C=0.001, degree=3, gamma=0.01, kernel=linear;, score=-29.406 total time=   0.0s\n",
      "[CV 2/5] END C=0.001, degree=3, gamma=0.01, kernel=linear;, score=-34.581 total time=   0.0s\n",
      "[CV 3/5] END C=0.001, degree=3, gamma=0.01, kernel=linear;, score=-35.365 total time=   0.0s\n",
      "[CV 4/5] END C=0.001, degree=3, gamma=0.01, kernel=linear;, score=-39.661 total time=   0.0s\n",
      "[CV 5/5] END C=0.001, degree=3, gamma=0.01, kernel=linear;, score=-51.288 total time=   0.0s\n",
      "[CV 1/5] END C=0.001, degree=3, gamma=0.01, kernel=rbf;, score=-69.521 total time=   0.0s\n",
      "[CV 2/5] END C=0.001, degree=3, gamma=0.01, kernel=rbf;, score=-62.385 total time=   0.0s\n",
      "[CV 3/5] END C=0.001, degree=3, gamma=0.01, kernel=rbf;, score=-48.174 total time=   0.0s\n",
      "[CV 4/5] END C=0.001, degree=3, gamma=0.01, kernel=rbf;, score=-63.463 total time=   0.0s\n",
      "[CV 5/5] END C=0.001, degree=3, gamma=0.01, kernel=rbf;, score=-56.982 total time=   0.0s\n",
      "[CV 1/5] END C=0.001, degree=3, gamma=0.001, kernel=linear;, score=-29.406 total time=   0.0s\n",
      "[CV 2/5] END C=0.001, degree=3, gamma=0.001, kernel=linear;, score=-34.581 total time=   0.0s\n",
      "[CV 3/5] END C=0.001, degree=3, gamma=0.001, kernel=linear;, score=-35.365 total time=   0.0s\n",
      "[CV 4/5] END C=0.001, degree=3, gamma=0.001, kernel=linear;, score=-39.661 total time=   0.0s\n",
      "[CV 5/5] END C=0.001, degree=3, gamma=0.001, kernel=linear;, score=-51.288 total time=   0.0s\n",
      "[CV 1/5] END C=0.001, degree=3, gamma=0.001, kernel=rbf;, score=-69.508 total time=   0.0s\n",
      "[CV 2/5] END C=0.001, degree=3, gamma=0.001, kernel=rbf;, score=-62.353 total time=   0.0s\n",
      "[CV 3/5] END C=0.001, degree=3, gamma=0.001, kernel=rbf;, score=-48.183 total time=   0.0s\n",
      "[CV 4/5] END C=0.001, degree=3, gamma=0.001, kernel=rbf;, score=-63.462 total time=   0.0s\n",
      "[CV 5/5] END C=0.001, degree=3, gamma=0.001, kernel=rbf;, score=-56.955 total time=   0.0s\n",
      "[CV 1/5] END C=0.001, degree=3, gamma=0.0001, kernel=linear;, score=-29.406 total time=   0.0s\n",
      "[CV 2/5] END C=0.001, degree=3, gamma=0.0001, kernel=linear;, score=-34.581 total time=   0.0s\n",
      "[CV 3/5] END C=0.001, degree=3, gamma=0.0001, kernel=linear;, score=-35.365 total time=   0.0s\n",
      "[CV 4/5] END C=0.001, degree=3, gamma=0.0001, kernel=linear;, score=-39.661 total time=   0.0s\n",
      "[CV 5/5] END C=0.001, degree=3, gamma=0.0001, kernel=linear;, score=-51.288 total time=   0.0s\n",
      "[CV 1/5] END C=0.001, degree=3, gamma=0.0001, kernel=rbf;, score=-69.536 total time=   0.0s\n",
      "[CV 2/5] END C=0.001, degree=3, gamma=0.0001, kernel=rbf;, score=-62.369 total time=   0.0s\n",
      "[CV 3/5] END C=0.001, degree=3, gamma=0.0001, kernel=rbf;, score=-48.199 total time=   0.0s\n",
      "[CV 4/5] END C=0.001, degree=3, gamma=0.0001, kernel=rbf;, score=-63.473 total time=   0.0s\n",
      "[CV 5/5] END C=0.001, degree=3, gamma=0.0001, kernel=rbf;, score=-56.972 total time=   0.0s\n",
      "[CV 1/5] END C=0.001, degree=4, gamma=0.01, kernel=linear;, score=-29.406 total time=   0.0s\n",
      "[CV 2/5] END C=0.001, degree=4, gamma=0.01, kernel=linear;, score=-34.581 total time=   0.0s\n",
      "[CV 3/5] END C=0.001, degree=4, gamma=0.01, kernel=linear;, score=-35.365 total time=   0.0s\n",
      "[CV 4/5] END C=0.001, degree=4, gamma=0.01, kernel=linear;, score=-39.661 total time=   0.0s\n",
      "[CV 5/5] END C=0.001, degree=4, gamma=0.01, kernel=linear;, score=-51.288 total time=   0.0s\n",
      "[CV 1/5] END C=0.001, degree=4, gamma=0.01, kernel=rbf;, score=-69.521 total time=   0.0s\n",
      "[CV 2/5] END C=0.001, degree=4, gamma=0.01, kernel=rbf;, score=-62.385 total time=   0.0s\n",
      "[CV 3/5] END C=0.001, degree=4, gamma=0.01, kernel=rbf;, score=-48.174 total time=   0.0s\n",
      "[CV 4/5] END C=0.001, degree=4, gamma=0.01, kernel=rbf;, score=-63.463 total time=   0.0s\n",
      "[CV 5/5] END C=0.001, degree=4, gamma=0.01, kernel=rbf;, score=-56.982 total time=   0.0s\n",
      "[CV 1/5] END C=0.001, degree=4, gamma=0.001, kernel=linear;, score=-29.406 total time=   0.0s\n",
      "[CV 2/5] END C=0.001, degree=4, gamma=0.001, kernel=linear;, score=-34.581 total time=   0.0s\n",
      "[CV 3/5] END C=0.001, degree=4, gamma=0.001, kernel=linear;, score=-35.365 total time=   0.0s\n",
      "[CV 4/5] END C=0.001, degree=4, gamma=0.001, kernel=linear;, score=-39.661 total time=   0.0s\n",
      "[CV 5/5] END C=0.001, degree=4, gamma=0.001, kernel=linear;, score=-51.288 total time=   0.0s\n",
      "[CV 1/5] END C=0.001, degree=4, gamma=0.001, kernel=rbf;, score=-69.508 total time=   0.0s\n",
      "[CV 2/5] END C=0.001, degree=4, gamma=0.001, kernel=rbf;, score=-62.353 total time=   0.0s\n",
      "[CV 3/5] END C=0.001, degree=4, gamma=0.001, kernel=rbf;, score=-48.183 total time=   0.0s\n",
      "[CV 4/5] END C=0.001, degree=4, gamma=0.001, kernel=rbf;, score=-63.462 total time=   0.0s\n",
      "[CV 5/5] END C=0.001, degree=4, gamma=0.001, kernel=rbf;, score=-56.955 total time=   0.0s\n",
      "[CV 1/5] END C=0.001, degree=4, gamma=0.0001, kernel=linear;, score=-29.406 total time=   0.0s\n",
      "[CV 2/5] END C=0.001, degree=4, gamma=0.0001, kernel=linear;, score=-34.581 total time=   0.0s\n",
      "[CV 3/5] END C=0.001, degree=4, gamma=0.0001, kernel=linear;, score=-35.365 total time=   0.0s\n",
      "[CV 4/5] END C=0.001, degree=4, gamma=0.0001, kernel=linear;, score=-39.661 total time=   0.0s\n",
      "[CV 5/5] END C=0.001, degree=4, gamma=0.0001, kernel=linear;, score=-51.288 total time=   0.0s\n",
      "[CV 1/5] END C=0.001, degree=4, gamma=0.0001, kernel=rbf;, score=-69.536 total time=   0.0s\n",
      "[CV 2/5] END C=0.001, degree=4, gamma=0.0001, kernel=rbf;, score=-62.369 total time=   0.0s\n",
      "[CV 3/5] END C=0.001, degree=4, gamma=0.0001, kernel=rbf;, score=-48.199 total time=   0.0s\n",
      "[CV 4/5] END C=0.001, degree=4, gamma=0.0001, kernel=rbf;, score=-63.473 total time=   0.0s\n",
      "[CV 5/5] END C=0.001, degree=4, gamma=0.0001, kernel=rbf;, score=-56.972 total time=   0.0s\n",
      "[CV 1/5] END C=0.001, degree=6, gamma=0.01, kernel=linear;, score=-29.406 total time=   0.0s\n",
      "[CV 2/5] END C=0.001, degree=6, gamma=0.01, kernel=linear;, score=-34.581 total time=   0.0s\n",
      "[CV 3/5] END C=0.001, degree=6, gamma=0.01, kernel=linear;, score=-35.365 total time=   0.0s\n",
      "[CV 4/5] END C=0.001, degree=6, gamma=0.01, kernel=linear;, score=-39.661 total time=   0.0s\n",
      "[CV 5/5] END C=0.001, degree=6, gamma=0.01, kernel=linear;, score=-51.288 total time=   0.0s\n",
      "[CV 1/5] END C=0.001, degree=6, gamma=0.01, kernel=rbf;, score=-69.521 total time=   0.0s\n",
      "[CV 2/5] END C=0.001, degree=6, gamma=0.01, kernel=rbf;, score=-62.385 total time=   0.0s\n",
      "[CV 3/5] END C=0.001, degree=6, gamma=0.01, kernel=rbf;, score=-48.174 total time=   0.0s\n",
      "[CV 4/5] END C=0.001, degree=6, gamma=0.01, kernel=rbf;, score=-63.463 total time=   0.0s\n",
      "[CV 5/5] END C=0.001, degree=6, gamma=0.01, kernel=rbf;, score=-56.982 total time=   0.0s\n",
      "[CV 1/5] END C=0.001, degree=6, gamma=0.001, kernel=linear;, score=-29.406 total time=   0.0s\n",
      "[CV 2/5] END C=0.001, degree=6, gamma=0.001, kernel=linear;, score=-34.581 total time=   0.0s\n",
      "[CV 3/5] END C=0.001, degree=6, gamma=0.001, kernel=linear;, score=-35.365 total time=   0.0s\n",
      "[CV 4/5] END C=0.001, degree=6, gamma=0.001, kernel=linear;, score=-39.661 total time=   0.0s\n",
      "[CV 5/5] END C=0.001, degree=6, gamma=0.001, kernel=linear;, score=-51.288 total time=   0.0s\n",
      "[CV 1/5] END C=0.001, degree=6, gamma=0.001, kernel=rbf;, score=-69.508 total time=   0.0s\n",
      "[CV 2/5] END C=0.001, degree=6, gamma=0.001, kernel=rbf;, score=-62.353 total time=   0.0s\n",
      "[CV 3/5] END C=0.001, degree=6, gamma=0.001, kernel=rbf;, score=-48.183 total time=   0.0s\n",
      "[CV 4/5] END C=0.001, degree=6, gamma=0.001, kernel=rbf;, score=-63.462 total time=   0.0s\n",
      "[CV 5/5] END C=0.001, degree=6, gamma=0.001, kernel=rbf;, score=-56.955 total time=   0.0s\n",
      "[CV 1/5] END C=0.001, degree=6, gamma=0.0001, kernel=linear;, score=-29.406 total time=   0.0s\n",
      "[CV 2/5] END C=0.001, degree=6, gamma=0.0001, kernel=linear;, score=-34.581 total time=   0.0s\n",
      "[CV 3/5] END C=0.001, degree=6, gamma=0.0001, kernel=linear;, score=-35.365 total time=   0.0s\n",
      "[CV 4/5] END C=0.001, degree=6, gamma=0.0001, kernel=linear;, score=-39.661 total time=   0.0s\n",
      "[CV 5/5] END C=0.001, degree=6, gamma=0.0001, kernel=linear;, score=-51.288 total time=   0.0s\n",
      "[CV 1/5] END C=0.001, degree=6, gamma=0.0001, kernel=rbf;, score=-69.536 total time=   0.0s\n",
      "[CV 2/5] END C=0.001, degree=6, gamma=0.0001, kernel=rbf;, score=-62.369 total time=   0.0s\n",
      "[CV 3/5] END C=0.001, degree=6, gamma=0.0001, kernel=rbf;, score=-48.199 total time=   0.0s\n",
      "[CV 4/5] END C=0.001, degree=6, gamma=0.0001, kernel=rbf;, score=-63.473 total time=   0.0s\n",
      "[CV 5/5] END C=0.001, degree=6, gamma=0.0001, kernel=rbf;, score=-56.972 total time=   0.0s\n",
      "[CV 1/5] END C=0.01, degree=3, gamma=0.01, kernel=linear;, score=-6.226 total time=   0.0s\n",
      "[CV 2/5] END C=0.01, degree=3, gamma=0.01, kernel=linear;, score=-27.589 total time=   0.0s\n",
      "[CV 3/5] END C=0.01, degree=3, gamma=0.01, kernel=linear;, score=-18.230 total time=   0.0s\n",
      "[CV 4/5] END C=0.01, degree=3, gamma=0.01, kernel=linear;, score=-4.343 total time=   0.0s\n",
      "[CV 5/5] END C=0.01, degree=3, gamma=0.01, kernel=linear;, score=-38.882 total time=   0.0s\n"
     ]
    },
    {
     "name": "stdout",
     "output_type": "stream",
     "text": [
      "[CV 1/5] END C=0.01, degree=3, gamma=0.01, kernel=rbf;, score=-69.071 total time=   0.0s\n",
      "[CV 2/5] END C=0.01, degree=3, gamma=0.01, kernel=rbf;, score=-62.057 total time=   0.0s\n",
      "[CV 3/5] END C=0.01, degree=3, gamma=0.01, kernel=rbf;, score=-47.862 total time=   0.0s\n",
      "[CV 4/5] END C=0.01, degree=3, gamma=0.01, kernel=rbf;, score=-63.155 total time=   0.0s\n",
      "[CV 5/5] END C=0.01, degree=3, gamma=0.01, kernel=rbf;, score=-56.594 total time=   0.0s\n",
      "[CV 1/5] END C=0.01, degree=3, gamma=0.001, kernel=linear;, score=-6.226 total time=   0.0s\n",
      "[CV 2/5] END C=0.01, degree=3, gamma=0.001, kernel=linear;, score=-27.589 total time=   0.0s\n",
      "[CV 3/5] END C=0.01, degree=3, gamma=0.001, kernel=linear;, score=-18.230 total time=   0.0s\n",
      "[CV 4/5] END C=0.01, degree=3, gamma=0.001, kernel=linear;, score=-4.343 total time=   0.0s\n",
      "[CV 5/5] END C=0.01, degree=3, gamma=0.001, kernel=linear;, score=-38.882 total time=   0.0s\n",
      "[CV 1/5] END C=0.01, degree=3, gamma=0.001, kernel=rbf;, score=-68.949 total time=   0.0s\n",
      "[CV 2/5] END C=0.01, degree=3, gamma=0.001, kernel=rbf;, score=-61.732 total time=   0.0s\n",
      "[CV 3/5] END C=0.01, degree=3, gamma=0.001, kernel=rbf;, score=-47.957 total time=   0.0s\n",
      "[CV 4/5] END C=0.01, degree=3, gamma=0.001, kernel=rbf;, score=-63.154 total time=   0.0s\n",
      "[CV 5/5] END C=0.01, degree=3, gamma=0.001, kernel=rbf;, score=-56.323 total time=   0.0s\n",
      "[CV 1/5] END C=0.01, degree=3, gamma=0.0001, kernel=linear;, score=-6.226 total time=   0.0s\n",
      "[CV 2/5] END C=0.01, degree=3, gamma=0.0001, kernel=linear;, score=-27.589 total time=   0.0s\n",
      "[CV 3/5] END C=0.01, degree=3, gamma=0.0001, kernel=linear;, score=-18.230 total time=   0.0s\n",
      "[CV 4/5] END C=0.01, degree=3, gamma=0.0001, kernel=linear;, score=-4.343 total time=   0.0s\n",
      "[CV 5/5] END C=0.01, degree=3, gamma=0.0001, kernel=linear;, score=-38.882 total time=   0.0s\n",
      "[CV 1/5] END C=0.01, degree=3, gamma=0.0001, kernel=rbf;, score=-69.239 total time=   0.0s\n",
      "[CV 2/5] END C=0.01, degree=3, gamma=0.0001, kernel=rbf;, score=-61.893 total time=   0.0s\n",
      "[CV 3/5] END C=0.01, degree=3, gamma=0.0001, kernel=rbf;, score=-48.127 total time=   0.0s\n",
      "[CV 4/5] END C=0.01, degree=3, gamma=0.0001, kernel=rbf;, score=-63.264 total time=   0.0s\n",
      "[CV 5/5] END C=0.01, degree=3, gamma=0.0001, kernel=rbf;, score=-56.495 total time=   0.0s\n",
      "[CV 1/5] END C=0.01, degree=4, gamma=0.01, kernel=linear;, score=-6.226 total time=   0.0s\n",
      "[CV 2/5] END C=0.01, degree=4, gamma=0.01, kernel=linear;, score=-27.589 total time=   0.0s\n",
      "[CV 3/5] END C=0.01, degree=4, gamma=0.01, kernel=linear;, score=-18.230 total time=   0.0s\n",
      "[CV 4/5] END C=0.01, degree=4, gamma=0.01, kernel=linear;, score=-4.343 total time=   0.0s\n",
      "[CV 5/5] END C=0.01, degree=4, gamma=0.01, kernel=linear;, score=-38.882 total time=   0.0s\n",
      "[CV 1/5] END C=0.01, degree=4, gamma=0.01, kernel=rbf;, score=-69.071 total time=   0.0s\n",
      "[CV 2/5] END C=0.01, degree=4, gamma=0.01, kernel=rbf;, score=-62.057 total time=   0.0s\n",
      "[CV 3/5] END C=0.01, degree=4, gamma=0.01, kernel=rbf;, score=-47.862 total time=   0.0s\n",
      "[CV 4/5] END C=0.01, degree=4, gamma=0.01, kernel=rbf;, score=-63.155 total time=   0.0s\n",
      "[CV 5/5] END C=0.01, degree=4, gamma=0.01, kernel=rbf;, score=-56.594 total time=   0.0s\n",
      "[CV 1/5] END C=0.01, degree=4, gamma=0.001, kernel=linear;, score=-6.226 total time=   0.0s\n",
      "[CV 2/5] END C=0.01, degree=4, gamma=0.001, kernel=linear;, score=-27.589 total time=   0.0s\n",
      "[CV 3/5] END C=0.01, degree=4, gamma=0.001, kernel=linear;, score=-18.230 total time=   0.0s\n",
      "[CV 4/5] END C=0.01, degree=4, gamma=0.001, kernel=linear;, score=-4.343 total time=   0.0s\n",
      "[CV 5/5] END C=0.01, degree=4, gamma=0.001, kernel=linear;, score=-38.882 total time=   0.0s\n",
      "[CV 1/5] END C=0.01, degree=4, gamma=0.001, kernel=rbf;, score=-68.949 total time=   0.0s\n",
      "[CV 2/5] END C=0.01, degree=4, gamma=0.001, kernel=rbf;, score=-61.732 total time=   0.0s\n",
      "[CV 3/5] END C=0.01, degree=4, gamma=0.001, kernel=rbf;, score=-47.957 total time=   0.0s\n",
      "[CV 4/5] END C=0.01, degree=4, gamma=0.001, kernel=rbf;, score=-63.154 total time=   0.0s\n",
      "[CV 5/5] END C=0.01, degree=4, gamma=0.001, kernel=rbf;, score=-56.323 total time=   0.0s\n",
      "[CV 1/5] END C=0.01, degree=4, gamma=0.0001, kernel=linear;, score=-6.226 total time=   0.0s\n",
      "[CV 2/5] END C=0.01, degree=4, gamma=0.0001, kernel=linear;, score=-27.589 total time=   0.0s\n",
      "[CV 3/5] END C=0.01, degree=4, gamma=0.0001, kernel=linear;, score=-18.230 total time=   0.0s\n",
      "[CV 4/5] END C=0.01, degree=4, gamma=0.0001, kernel=linear;, score=-4.343 total time=   0.0s\n",
      "[CV 5/5] END C=0.01, degree=4, gamma=0.0001, kernel=linear;, score=-38.882 total time=   0.0s\n",
      "[CV 1/5] END C=0.01, degree=4, gamma=0.0001, kernel=rbf;, score=-69.239 total time=   0.0s\n",
      "[CV 2/5] END C=0.01, degree=4, gamma=0.0001, kernel=rbf;, score=-61.893 total time=   0.0s\n",
      "[CV 3/5] END C=0.01, degree=4, gamma=0.0001, kernel=rbf;, score=-48.127 total time=   0.0s\n",
      "[CV 4/5] END C=0.01, degree=4, gamma=0.0001, kernel=rbf;, score=-63.264 total time=   0.0s\n",
      "[CV 5/5] END C=0.01, degree=4, gamma=0.0001, kernel=rbf;, score=-56.495 total time=   0.0s\n",
      "[CV 1/5] END C=0.01, degree=6, gamma=0.01, kernel=linear;, score=-6.226 total time=   0.0s\n",
      "[CV 2/5] END C=0.01, degree=6, gamma=0.01, kernel=linear;, score=-27.589 total time=   0.0s\n",
      "[CV 3/5] END C=0.01, degree=6, gamma=0.01, kernel=linear;, score=-18.230 total time=   0.0s\n",
      "[CV 4/5] END C=0.01, degree=6, gamma=0.01, kernel=linear;, score=-4.343 total time=   0.0s\n",
      "[CV 5/5] END C=0.01, degree=6, gamma=0.01, kernel=linear;, score=-38.882 total time=   0.0s\n",
      "[CV 1/5] END C=0.01, degree=6, gamma=0.01, kernel=rbf;, score=-69.071 total time=   0.0s\n",
      "[CV 2/5] END C=0.01, degree=6, gamma=0.01, kernel=rbf;, score=-62.057 total time=   0.0s\n",
      "[CV 3/5] END C=0.01, degree=6, gamma=0.01, kernel=rbf;, score=-47.862 total time=   0.0s\n",
      "[CV 4/5] END C=0.01, degree=6, gamma=0.01, kernel=rbf;, score=-63.155 total time=   0.0s\n",
      "[CV 5/5] END C=0.01, degree=6, gamma=0.01, kernel=rbf;, score=-56.594 total time=   0.0s\n",
      "[CV 1/5] END C=0.01, degree=6, gamma=0.001, kernel=linear;, score=-6.226 total time=   0.0s\n",
      "[CV 2/5] END C=0.01, degree=6, gamma=0.001, kernel=linear;, score=-27.589 total time=   0.0s\n",
      "[CV 3/5] END C=0.01, degree=6, gamma=0.001, kernel=linear;, score=-18.230 total time=   0.0s\n",
      "[CV 4/5] END C=0.01, degree=6, gamma=0.001, kernel=linear;, score=-4.343 total time=   0.0s\n",
      "[CV 5/5] END C=0.01, degree=6, gamma=0.001, kernel=linear;, score=-38.882 total time=   0.0s\n",
      "[CV 1/5] END C=0.01, degree=6, gamma=0.001, kernel=rbf;, score=-68.949 total time=   0.0s\n",
      "[CV 2/5] END C=0.01, degree=6, gamma=0.001, kernel=rbf;, score=-61.732 total time=   0.0s\n",
      "[CV 3/5] END C=0.01, degree=6, gamma=0.001, kernel=rbf;, score=-47.957 total time=   0.0s\n",
      "[CV 4/5] END C=0.01, degree=6, gamma=0.001, kernel=rbf;, score=-63.154 total time=   0.0s\n",
      "[CV 5/5] END C=0.01, degree=6, gamma=0.001, kernel=rbf;, score=-56.323 total time=   0.0s\n",
      "[CV 1/5] END C=0.01, degree=6, gamma=0.0001, kernel=linear;, score=-6.226 total time=   0.0s\n",
      "[CV 2/5] END C=0.01, degree=6, gamma=0.0001, kernel=linear;, score=-27.589 total time=   0.0s\n",
      "[CV 3/5] END C=0.01, degree=6, gamma=0.0001, kernel=linear;, score=-18.230 total time=   0.0s\n",
      "[CV 4/5] END C=0.01, degree=6, gamma=0.0001, kernel=linear;, score=-4.343 total time=   0.0s\n",
      "[CV 5/5] END C=0.01, degree=6, gamma=0.0001, kernel=linear;, score=-38.882 total time=   0.0s\n",
      "[CV 1/5] END C=0.01, degree=6, gamma=0.0001, kernel=rbf;, score=-69.239 total time=   0.0s\n",
      "[CV 2/5] END C=0.01, degree=6, gamma=0.0001, kernel=rbf;, score=-61.893 total time=   0.0s\n",
      "[CV 3/5] END C=0.01, degree=6, gamma=0.0001, kernel=rbf;, score=-48.127 total time=   0.0s\n",
      "[CV 4/5] END C=0.01, degree=6, gamma=0.0001, kernel=rbf;, score=-63.264 total time=   0.0s\n",
      "[CV 5/5] END C=0.01, degree=6, gamma=0.0001, kernel=rbf;, score=-56.495 total time=   0.0s\n",
      "[CV 1/5] END C=0.1, degree=3, gamma=0.01, kernel=linear;, score=-5.506 total time=   0.0s\n",
      "[CV 2/5] END C=0.1, degree=3, gamma=0.01, kernel=linear;, score=-24.911 total time=   0.0s\n",
      "[CV 3/5] END C=0.1, degree=3, gamma=0.01, kernel=linear;, score=-15.525 total time=   0.3s\n",
      "[CV 4/5] END C=0.1, degree=3, gamma=0.01, kernel=linear;, score=-3.100 total time=   0.0s\n",
      "[CV 5/5] END C=0.1, degree=3, gamma=0.01, kernel=linear;, score=-36.977 total time=   0.0s\n",
      "[CV 1/5] END C=0.1, degree=3, gamma=0.01, kernel=rbf;, score=-64.859 total time=   0.0s\n",
      "[CV 2/5] END C=0.1, degree=3, gamma=0.01, kernel=rbf;, score=-59.090 total time=   0.0s\n",
      "[CV 3/5] END C=0.1, degree=3, gamma=0.01, kernel=rbf;, score=-44.795 total time=   0.0s\n",
      "[CV 4/5] END C=0.1, degree=3, gamma=0.01, kernel=rbf;, score=-59.836 total time=   0.0s\n",
      "[CV 5/5] END C=0.1, degree=3, gamma=0.01, kernel=rbf;, score=-53.302 total time=   0.0s\n"
     ]
    },
    {
     "name": "stdout",
     "output_type": "stream",
     "text": [
      "[CV 1/5] END C=0.1, degree=3, gamma=0.001, kernel=linear;, score=-5.506 total time=   0.0s\n",
      "[CV 2/5] END C=0.1, degree=3, gamma=0.001, kernel=linear;, score=-24.911 total time=   0.0s\n",
      "[CV 3/5] END C=0.1, degree=3, gamma=0.001, kernel=linear;, score=-15.525 total time=   0.4s\n",
      "[CV 4/5] END C=0.1, degree=3, gamma=0.001, kernel=linear;, score=-3.100 total time=   0.0s\n",
      "[CV 5/5] END C=0.1, degree=3, gamma=0.001, kernel=linear;, score=-36.977 total time=   0.0s\n",
      "[CV 1/5] END C=0.1, degree=3, gamma=0.001, kernel=rbf;, score=-64.515 total time=   0.0s\n",
      "[CV 2/5] END C=0.1, degree=3, gamma=0.001, kernel=rbf;, score=-56.144 total time=   0.0s\n",
      "[CV 3/5] END C=0.1, degree=3, gamma=0.001, kernel=rbf;, score=-45.718 total time=   0.0s\n",
      "[CV 4/5] END C=0.1, degree=3, gamma=0.001, kernel=rbf;, score=-59.225 total time=   0.0s\n",
      "[CV 5/5] END C=0.1, degree=3, gamma=0.001, kernel=rbf;, score=-51.099 total time=   0.0s\n",
      "[CV 1/5] END C=0.1, degree=3, gamma=0.0001, kernel=linear;, score=-5.506 total time=   0.0s\n",
      "[CV 2/5] END C=0.1, degree=3, gamma=0.0001, kernel=linear;, score=-24.911 total time=   0.0s\n",
      "[CV 3/5] END C=0.1, degree=3, gamma=0.0001, kernel=linear;, score=-15.525 total time=   0.4s\n",
      "[CV 4/5] END C=0.1, degree=3, gamma=0.0001, kernel=linear;, score=-3.100 total time=   0.0s\n",
      "[CV 5/5] END C=0.1, degree=3, gamma=0.0001, kernel=linear;, score=-36.977 total time=   0.0s\n",
      "[CV 1/5] END C=0.1, degree=3, gamma=0.0001, kernel=rbf;, score=-65.073 total time=   0.0s\n",
      "[CV 2/5] END C=0.1, degree=3, gamma=0.0001, kernel=rbf;, score=-57.795 total time=   0.0s\n",
      "[CV 3/5] END C=0.1, degree=3, gamma=0.0001, kernel=rbf;, score=-46.803 total time=   0.0s\n",
      "[CV 4/5] END C=0.1, degree=3, gamma=0.0001, kernel=rbf;, score=-58.957 total time=   0.0s\n",
      "[CV 5/5] END C=0.1, degree=3, gamma=0.0001, kernel=rbf;, score=-52.804 total time=   0.0s\n",
      "[CV 1/5] END C=0.1, degree=4, gamma=0.01, kernel=linear;, score=-5.506 total time=   0.0s\n",
      "[CV 2/5] END C=0.1, degree=4, gamma=0.01, kernel=linear;, score=-24.911 total time=   0.0s\n",
      "[CV 3/5] END C=0.1, degree=4, gamma=0.01, kernel=linear;, score=-15.525 total time=   0.4s\n",
      "[CV 4/5] END C=0.1, degree=4, gamma=0.01, kernel=linear;, score=-3.100 total time=   0.0s\n",
      "[CV 5/5] END C=0.1, degree=4, gamma=0.01, kernel=linear;, score=-36.977 total time=   0.0s\n",
      "[CV 1/5] END C=0.1, degree=4, gamma=0.01, kernel=rbf;, score=-64.859 total time=   0.0s\n",
      "[CV 2/5] END C=0.1, degree=4, gamma=0.01, kernel=rbf;, score=-59.090 total time=   0.0s\n",
      "[CV 3/5] END C=0.1, degree=4, gamma=0.01, kernel=rbf;, score=-44.795 total time=   0.0s\n",
      "[CV 4/5] END C=0.1, degree=4, gamma=0.01, kernel=rbf;, score=-59.836 total time=   0.0s\n",
      "[CV 5/5] END C=0.1, degree=4, gamma=0.01, kernel=rbf;, score=-53.302 total time=   0.0s\n",
      "[CV 1/5] END C=0.1, degree=4, gamma=0.001, kernel=linear;, score=-5.506 total time=   0.0s\n",
      "[CV 2/5] END C=0.1, degree=4, gamma=0.001, kernel=linear;, score=-24.911 total time=   0.0s\n",
      "[CV 3/5] END C=0.1, degree=4, gamma=0.001, kernel=linear;, score=-15.525 total time=   0.3s\n",
      "[CV 4/5] END C=0.1, degree=4, gamma=0.001, kernel=linear;, score=-3.100 total time=   0.0s\n",
      "[CV 5/5] END C=0.1, degree=4, gamma=0.001, kernel=linear;, score=-36.977 total time=   0.0s\n",
      "[CV 1/5] END C=0.1, degree=4, gamma=0.001, kernel=rbf;, score=-64.515 total time=   0.0s\n",
      "[CV 2/5] END C=0.1, degree=4, gamma=0.001, kernel=rbf;, score=-56.144 total time=   0.0s\n",
      "[CV 3/5] END C=0.1, degree=4, gamma=0.001, kernel=rbf;, score=-45.718 total time=   0.0s\n",
      "[CV 4/5] END C=0.1, degree=4, gamma=0.001, kernel=rbf;, score=-59.225 total time=   0.0s\n",
      "[CV 5/5] END C=0.1, degree=4, gamma=0.001, kernel=rbf;, score=-51.099 total time=   0.0s\n",
      "[CV 1/5] END C=0.1, degree=4, gamma=0.0001, kernel=linear;, score=-5.506 total time=   0.0s\n",
      "[CV 2/5] END C=0.1, degree=4, gamma=0.0001, kernel=linear;, score=-24.911 total time=   0.0s\n",
      "[CV 3/5] END C=0.1, degree=4, gamma=0.0001, kernel=linear;, score=-15.525 total time=   0.4s\n",
      "[CV 4/5] END C=0.1, degree=4, gamma=0.0001, kernel=linear;, score=-3.100 total time=   0.0s\n",
      "[CV 5/5] END C=0.1, degree=4, gamma=0.0001, kernel=linear;, score=-36.977 total time=   0.0s\n",
      "[CV 1/5] END C=0.1, degree=4, gamma=0.0001, kernel=rbf;, score=-65.073 total time=   0.0s\n",
      "[CV 2/5] END C=0.1, degree=4, gamma=0.0001, kernel=rbf;, score=-57.795 total time=   0.0s\n",
      "[CV 3/5] END C=0.1, degree=4, gamma=0.0001, kernel=rbf;, score=-46.803 total time=   0.0s\n",
      "[CV 4/5] END C=0.1, degree=4, gamma=0.0001, kernel=rbf;, score=-58.957 total time=   0.0s\n",
      "[CV 5/5] END C=0.1, degree=4, gamma=0.0001, kernel=rbf;, score=-52.804 total time=   0.0s\n",
      "[CV 1/5] END C=0.1, degree=6, gamma=0.01, kernel=linear;, score=-5.506 total time=   0.0s\n",
      "[CV 2/5] END C=0.1, degree=6, gamma=0.01, kernel=linear;, score=-24.911 total time=   0.0s\n",
      "[CV 3/5] END C=0.1, degree=6, gamma=0.01, kernel=linear;, score=-15.525 total time=   0.3s\n",
      "[CV 4/5] END C=0.1, degree=6, gamma=0.01, kernel=linear;, score=-3.100 total time=   0.0s\n",
      "[CV 5/5] END C=0.1, degree=6, gamma=0.01, kernel=linear;, score=-36.977 total time=   0.0s\n",
      "[CV 1/5] END C=0.1, degree=6, gamma=0.01, kernel=rbf;, score=-64.859 total time=   0.0s\n",
      "[CV 2/5] END C=0.1, degree=6, gamma=0.01, kernel=rbf;, score=-59.090 total time=   0.0s\n",
      "[CV 3/5] END C=0.1, degree=6, gamma=0.01, kernel=rbf;, score=-44.795 total time=   0.0s\n",
      "[CV 4/5] END C=0.1, degree=6, gamma=0.01, kernel=rbf;, score=-59.836 total time=   0.0s\n",
      "[CV 5/5] END C=0.1, degree=6, gamma=0.01, kernel=rbf;, score=-53.302 total time=   0.0s\n",
      "[CV 1/5] END C=0.1, degree=6, gamma=0.001, kernel=linear;, score=-5.506 total time=   0.0s\n",
      "[CV 2/5] END C=0.1, degree=6, gamma=0.001, kernel=linear;, score=-24.911 total time=   0.0s\n",
      "[CV 3/5] END C=0.1, degree=6, gamma=0.001, kernel=linear;, score=-15.525 total time=   0.4s\n",
      "[CV 4/5] END C=0.1, degree=6, gamma=0.001, kernel=linear;, score=-3.100 total time=   0.0s\n",
      "[CV 5/5] END C=0.1, degree=6, gamma=0.001, kernel=linear;, score=-36.977 total time=   0.0s\n",
      "[CV 1/5] END C=0.1, degree=6, gamma=0.001, kernel=rbf;, score=-64.515 total time=   0.0s\n",
      "[CV 2/5] END C=0.1, degree=6, gamma=0.001, kernel=rbf;, score=-56.144 total time=   0.0s\n",
      "[CV 3/5] END C=0.1, degree=6, gamma=0.001, kernel=rbf;, score=-45.718 total time=   0.0s\n",
      "[CV 4/5] END C=0.1, degree=6, gamma=0.001, kernel=rbf;, score=-59.225 total time=   0.0s\n",
      "[CV 5/5] END C=0.1, degree=6, gamma=0.001, kernel=rbf;, score=-51.099 total time=   0.0s\n",
      "[CV 1/5] END C=0.1, degree=6, gamma=0.0001, kernel=linear;, score=-5.506 total time=   0.0s\n",
      "[CV 2/5] END C=0.1, degree=6, gamma=0.0001, kernel=linear;, score=-24.911 total time=   0.0s\n",
      "[CV 3/5] END C=0.1, degree=6, gamma=0.0001, kernel=linear;, score=-15.525 total time=   0.4s\n",
      "[CV 4/5] END C=0.1, degree=6, gamma=0.0001, kernel=linear;, score=-3.100 total time=   0.0s\n",
      "[CV 5/5] END C=0.1, degree=6, gamma=0.0001, kernel=linear;, score=-36.977 total time=   0.0s\n",
      "[CV 1/5] END C=0.1, degree=6, gamma=0.0001, kernel=rbf;, score=-65.073 total time=   0.0s\n",
      "[CV 2/5] END C=0.1, degree=6, gamma=0.0001, kernel=rbf;, score=-57.795 total time=   0.0s\n",
      "[CV 3/5] END C=0.1, degree=6, gamma=0.0001, kernel=rbf;, score=-46.803 total time=   0.0s\n",
      "[CV 4/5] END C=0.1, degree=6, gamma=0.0001, kernel=rbf;, score=-58.957 total time=   0.0s\n",
      "[CV 5/5] END C=0.1, degree=6, gamma=0.0001, kernel=rbf;, score=-52.804 total time=   0.0s\n",
      "[CV 1/5] END C=1, degree=3, gamma=0.01, kernel=linear;, score=-4.534 total time=   1.0s\n",
      "[CV 2/5] END C=1, degree=3, gamma=0.01, kernel=linear;, score=-25.372 total time=   3.8s\n",
      "[CV 3/5] END C=1, degree=3, gamma=0.01, kernel=linear;, score=-14.067 total time=   1.0s\n",
      "[CV 4/5] END C=1, degree=3, gamma=0.01, kernel=linear;, score=-2.409 total time=   0.5s\n",
      "[CV 5/5] END C=1, degree=3, gamma=0.01, kernel=linear;, score=-37.738 total time=   2.4s\n",
      "[CV 1/5] END C=1, degree=3, gamma=0.01, kernel=rbf;, score=-40.651 total time=   0.0s\n",
      "[CV 2/5] END C=1, degree=3, gamma=0.01, kernel=rbf;, score=-31.807 total time=   0.0s\n",
      "[CV 3/5] END C=1, degree=3, gamma=0.01, kernel=rbf;, score=-23.896 total time=   0.0s\n",
      "[CV 4/5] END C=1, degree=3, gamma=0.01, kernel=rbf;, score=-31.876 total time=   0.0s\n",
      "[CV 5/5] END C=1, degree=3, gamma=0.01, kernel=rbf;, score=-31.618 total time=   0.0s\n",
      "[CV 1/5] END C=1, degree=3, gamma=0.001, kernel=linear;, score=-4.534 total time=   1.2s\n"
     ]
    },
    {
     "name": "stdout",
     "output_type": "stream",
     "text": [
      "[CV 2/5] END C=1, degree=3, gamma=0.001, kernel=linear;, score=-25.372 total time=   4.0s\n",
      "[CV 3/5] END C=1, degree=3, gamma=0.001, kernel=linear;, score=-14.067 total time=   1.1s\n",
      "[CV 4/5] END C=1, degree=3, gamma=0.001, kernel=linear;, score=-2.409 total time=   0.5s\n",
      "[CV 5/5] END C=1, degree=3, gamma=0.001, kernel=linear;, score=-37.738 total time=   2.4s\n",
      "[CV 1/5] END C=1, degree=3, gamma=0.001, kernel=rbf;, score=-47.874 total time=   0.0s\n",
      "[CV 2/5] END C=1, degree=3, gamma=0.001, kernel=rbf;, score=-38.012 total time=   0.0s\n",
      "[CV 3/5] END C=1, degree=3, gamma=0.001, kernel=rbf;, score=-28.815 total time=   0.0s\n",
      "[CV 4/5] END C=1, degree=3, gamma=0.001, kernel=rbf;, score=-40.216 total time=   0.0s\n",
      "[CV 5/5] END C=1, degree=3, gamma=0.001, kernel=rbf;, score=-37.952 total time=   0.0s\n",
      "[CV 1/5] END C=1, degree=3, gamma=0.0001, kernel=linear;, score=-4.534 total time=   1.0s\n",
      "[CV 2/5] END C=1, degree=3, gamma=0.0001, kernel=linear;, score=-25.372 total time=   3.8s\n",
      "[CV 3/5] END C=1, degree=3, gamma=0.0001, kernel=linear;, score=-14.067 total time=   1.1s\n",
      "[CV 4/5] END C=1, degree=3, gamma=0.0001, kernel=linear;, score=-2.409 total time=   0.6s\n",
      "[CV 5/5] END C=1, degree=3, gamma=0.0001, kernel=linear;, score=-37.738 total time=   2.5s\n",
      "[CV 1/5] END C=1, degree=3, gamma=0.0001, kernel=rbf;, score=-55.670 total time=   0.0s\n",
      "[CV 2/5] END C=1, degree=3, gamma=0.0001, kernel=rbf;, score=-51.969 total time=   0.0s\n",
      "[CV 3/5] END C=1, degree=3, gamma=0.0001, kernel=rbf;, score=-34.680 total time=   0.0s\n",
      "[CV 4/5] END C=1, degree=3, gamma=0.0001, kernel=rbf;, score=-54.079 total time=   0.0s\n",
      "[CV 5/5] END C=1, degree=3, gamma=0.0001, kernel=rbf;, score=-45.782 total time=   0.0s\n",
      "[CV 1/5] END C=1, degree=4, gamma=0.01, kernel=linear;, score=-4.534 total time=   1.1s\n",
      "[CV 2/5] END C=1, degree=4, gamma=0.01, kernel=linear;, score=-25.372 total time=   3.9s\n",
      "[CV 3/5] END C=1, degree=4, gamma=0.01, kernel=linear;, score=-14.067 total time=   1.0s\n",
      "[CV 4/5] END C=1, degree=4, gamma=0.01, kernel=linear;, score=-2.409 total time=   0.5s\n",
      "[CV 5/5] END C=1, degree=4, gamma=0.01, kernel=linear;, score=-37.738 total time=   2.3s\n",
      "[CV 1/5] END C=1, degree=4, gamma=0.01, kernel=rbf;, score=-40.651 total time=   0.0s\n",
      "[CV 2/5] END C=1, degree=4, gamma=0.01, kernel=rbf;, score=-31.807 total time=   0.0s\n",
      "[CV 3/5] END C=1, degree=4, gamma=0.01, kernel=rbf;, score=-23.896 total time=   0.0s\n",
      "[CV 4/5] END C=1, degree=4, gamma=0.01, kernel=rbf;, score=-31.876 total time=   0.0s\n",
      "[CV 5/5] END C=1, degree=4, gamma=0.01, kernel=rbf;, score=-31.618 total time=   0.0s\n",
      "[CV 1/5] END C=1, degree=4, gamma=0.001, kernel=linear;, score=-4.534 total time=   1.0s\n",
      "[CV 2/5] END C=1, degree=4, gamma=0.001, kernel=linear;, score=-25.372 total time=   4.0s\n",
      "[CV 3/5] END C=1, degree=4, gamma=0.001, kernel=linear;, score=-14.067 total time=   1.1s\n",
      "[CV 4/5] END C=1, degree=4, gamma=0.001, kernel=linear;, score=-2.409 total time=   0.5s\n",
      "[CV 5/5] END C=1, degree=4, gamma=0.001, kernel=linear;, score=-37.738 total time=   2.4s\n",
      "[CV 1/5] END C=1, degree=4, gamma=0.001, kernel=rbf;, score=-47.874 total time=   0.0s\n",
      "[CV 2/5] END C=1, degree=4, gamma=0.001, kernel=rbf;, score=-38.012 total time=   0.0s\n",
      "[CV 3/5] END C=1, degree=4, gamma=0.001, kernel=rbf;, score=-28.815 total time=   0.0s\n",
      "[CV 4/5] END C=1, degree=4, gamma=0.001, kernel=rbf;, score=-40.216 total time=   0.0s\n",
      "[CV 5/5] END C=1, degree=4, gamma=0.001, kernel=rbf;, score=-37.952 total time=   0.0s\n",
      "[CV 1/5] END C=1, degree=4, gamma=0.0001, kernel=linear;, score=-4.534 total time=   1.1s\n",
      "[CV 2/5] END C=1, degree=4, gamma=0.0001, kernel=linear;, score=-25.372 total time=   4.2s\n",
      "[CV 3/5] END C=1, degree=4, gamma=0.0001, kernel=linear;, score=-14.067 total time=   1.1s\n",
      "[CV 4/5] END C=1, degree=4, gamma=0.0001, kernel=linear;, score=-2.409 total time=   0.5s\n",
      "[CV 5/5] END C=1, degree=4, gamma=0.0001, kernel=linear;, score=-37.738 total time=   2.3s\n",
      "[CV 1/5] END C=1, degree=4, gamma=0.0001, kernel=rbf;, score=-55.670 total time=   0.0s\n",
      "[CV 2/5] END C=1, degree=4, gamma=0.0001, kernel=rbf;, score=-51.969 total time=   0.0s\n",
      "[CV 3/5] END C=1, degree=4, gamma=0.0001, kernel=rbf;, score=-34.680 total time=   0.0s\n",
      "[CV 4/5] END C=1, degree=4, gamma=0.0001, kernel=rbf;, score=-54.079 total time=   0.0s\n",
      "[CV 5/5] END C=1, degree=4, gamma=0.0001, kernel=rbf;, score=-45.782 total time=   0.0s\n",
      "[CV 1/5] END C=1, degree=6, gamma=0.01, kernel=linear;, score=-4.534 total time=   1.1s\n",
      "[CV 2/5] END C=1, degree=6, gamma=0.01, kernel=linear;, score=-25.372 total time=   4.1s\n",
      "[CV 3/5] END C=1, degree=6, gamma=0.01, kernel=linear;, score=-14.067 total time=   1.0s\n",
      "[CV 4/5] END C=1, degree=6, gamma=0.01, kernel=linear;, score=-2.409 total time=   0.5s\n",
      "[CV 5/5] END C=1, degree=6, gamma=0.01, kernel=linear;, score=-37.738 total time=   2.3s\n",
      "[CV 1/5] END C=1, degree=6, gamma=0.01, kernel=rbf;, score=-40.651 total time=   0.0s\n",
      "[CV 2/5] END C=1, degree=6, gamma=0.01, kernel=rbf;, score=-31.807 total time=   0.0s\n",
      "[CV 3/5] END C=1, degree=6, gamma=0.01, kernel=rbf;, score=-23.896 total time=   0.0s\n",
      "[CV 4/5] END C=1, degree=6, gamma=0.01, kernel=rbf;, score=-31.876 total time=   0.0s\n",
      "[CV 5/5] END C=1, degree=6, gamma=0.01, kernel=rbf;, score=-31.618 total time=   0.0s\n",
      "[CV 1/5] END C=1, degree=6, gamma=0.001, kernel=linear;, score=-4.534 total time=   1.0s\n",
      "[CV 2/5] END C=1, degree=6, gamma=0.001, kernel=linear;, score=-25.372 total time=   3.9s\n",
      "[CV 3/5] END C=1, degree=6, gamma=0.001, kernel=linear;, score=-14.067 total time=   1.0s\n",
      "[CV 4/5] END C=1, degree=6, gamma=0.001, kernel=linear;, score=-2.409 total time=   0.5s\n",
      "[CV 5/5] END C=1, degree=6, gamma=0.001, kernel=linear;, score=-37.738 total time=   2.6s\n",
      "[CV 1/5] END C=1, degree=6, gamma=0.001, kernel=rbf;, score=-47.874 total time=   0.0s\n",
      "[CV 2/5] END C=1, degree=6, gamma=0.001, kernel=rbf;, score=-38.012 total time=   0.0s\n",
      "[CV 3/5] END C=1, degree=6, gamma=0.001, kernel=rbf;, score=-28.815 total time=   0.0s\n",
      "[CV 4/5] END C=1, degree=6, gamma=0.001, kernel=rbf;, score=-40.216 total time=   0.0s\n",
      "[CV 5/5] END C=1, degree=6, gamma=0.001, kernel=rbf;, score=-37.952 total time=   0.0s\n",
      "[CV 1/5] END C=1, degree=6, gamma=0.0001, kernel=linear;, score=-4.534 total time=   1.1s\n",
      "[CV 2/5] END C=1, degree=6, gamma=0.0001, kernel=linear;, score=-25.372 total time=   3.9s\n",
      "[CV 3/5] END C=1, degree=6, gamma=0.0001, kernel=linear;, score=-14.067 total time=   1.0s\n",
      "[CV 4/5] END C=1, degree=6, gamma=0.0001, kernel=linear;, score=-2.409 total time=   0.5s\n",
      "[CV 5/5] END C=1, degree=6, gamma=0.0001, kernel=linear;, score=-37.738 total time=   2.4s\n",
      "[CV 1/5] END C=1, degree=6, gamma=0.0001, kernel=rbf;, score=-55.670 total time=   0.0s\n",
      "[CV 2/5] END C=1, degree=6, gamma=0.0001, kernel=rbf;, score=-51.969 total time=   0.0s\n",
      "[CV 3/5] END C=1, degree=6, gamma=0.0001, kernel=rbf;, score=-34.680 total time=   0.0s\n",
      "[CV 4/5] END C=1, degree=6, gamma=0.0001, kernel=rbf;, score=-54.079 total time=   0.0s\n",
      "[CV 5/5] END C=1, degree=6, gamma=0.0001, kernel=rbf;, score=-45.782 total time=   0.0s\n",
      "best parameters are: {'C': 1, 'degree': 3, 'gamma': 0.01, 'kernel': 'linear'}\n"
     ]
    }
   ],
   "source": [
    "param_grid = {\n",
    "    'C': [0.001,0.01,0.1,1],\n",
    "    'gamma': [0.01,0.001,0.0001],\n",
    "    'kernel': ['linear', 'rbf'],\n",
    "    'degree' : [3,4,6]\n",
    "}\n",
    "\n",
    "svr = SVR(kernel ='rbf')\n",
    "\n",
    "grid_svm = GridSearchCV(svr, param_grid, refit = True, cv=5, scoring='neg_mean_squared_error', verbose = 3)\n",
    "\n",
    "#fitting the model for grid search\n",
    "grid_svm.fit(X_train,y_train)\n",
    "print(\"best parameters are:\", grid_svm.best_params_)"
   ]
  },
  {
   "cell_type": "code",
   "execution_count": 59,
   "id": "85eb41e4",
   "metadata": {},
   "outputs": [],
   "source": [
    "grid_predictions_svm = grid_svm.predict(X_test)\n",
    "grid_pred_train_svm = grid_svm.predict(X_train)\n",
    "grid_pred_all_svm = grid_svm.predict(X)"
   ]
  },
  {
   "cell_type": "code",
   "execution_count": 60,
   "id": "788fe998",
   "metadata": {
    "scrolled": true
   },
   "outputs": [
    {
     "name": "stdout",
     "output_type": "stream",
     "text": [
      "R2 score: Test 0.8913006676314306\n",
      "R2 score: Train 0.7080083449082644\n",
      "R2 score: Train 0.7314216091903254\n"
     ]
    }
   ],
   "source": [
    "from sklearn.metrics import r2_score\n",
    "print('R2 score: Test', r2_score(y_test, grid_predictions_svm))\n",
    "print('R2 score: Train', r2_score(y_train, grid_pred_train_svm))\n",
    "print('R2 score: Train', r2_score(y, grid_pred_all_svm))"
   ]
  },
  {
   "cell_type": "code",
   "execution_count": 61,
   "id": "e68141e3",
   "metadata": {
    "scrolled": true
   },
   "outputs": [
    {
     "name": "stdout",
     "output_type": "stream",
     "text": [
      "RMSE: Test 6.755326647475577\n",
      "RMSE: Train 16.563406715416967\n",
      "RMSE: All Data 15.497311055858125\n"
     ]
    }
   ],
   "source": [
    "from sklearn.metrics import mean_squared_error\n",
    "print('RMSE: Test', mean_squared_error(y_test, grid_predictions_svm))\n",
    "print('RMSE: Train', mean_squared_error(y_train, grid_pred_train_svm))\n",
    "print('RMSE: All Data', mean_squared_error(y, grid_pred_all_svm))"
   ]
  },
  {
   "cell_type": "code",
   "execution_count": 62,
   "id": "1a58812d",
   "metadata": {},
   "outputs": [],
   "source": [
    "from sklearn.inspection import permutation_importance\n",
    "#permutation importance\n",
    "results = permutation_importance(grid_svm, X_train, y_train, scoring = 'neg_mean_squared_error')\n",
    "\n",
    "#get feature importance\n",
    "importance = results.importances_mean"
   ]
  },
  {
   "cell_type": "code",
   "execution_count": 63,
   "id": "889ac7d8",
   "metadata": {
    "scrolled": true
   },
   "outputs": [
    {
     "name": "stdout",
     "output_type": "stream",
     "text": [
      "Oil Temperature Feature: 0, Score: 99.33953\n",
      "Wall Temperature Feature: 1, Score: 14.40129\n",
      "Rotation Speed Feature: 2, Score: 35.66748\n",
      "Wall Shear Stress Feature: 3, Score: 18.60531\n",
      "Oil Viscosity Feature: 4, Score: -0.05253\n",
      "Wax Crystal Solubility Coefficient Feature: 5, Score: 25.93696\n",
      "Temperature Gradient Feature: 6, Score: 0.17615\n"
     ]
    }
   ],
   "source": [
    "list_features = ['Oil Temperature','Wall Temperature','Rotation Speed','Wall Shear Stress','Oil Viscosity','Wax Crystal Solubility Coefficient','Temperature Gradient']\n",
    "#summarize feature importance \n",
    "j=0\n",
    "for i,v in enumerate(importance):\n",
    "    print(list_features[j],'Feature: %0d, Score: %.5f' %(i,v))\n",
    "    j+=1"
   ]
  },
  {
   "cell_type": "code",
   "execution_count": 64,
   "id": "083dd2c9",
   "metadata": {},
   "outputs": [
    {
     "data": {
      "image/png": "[encoded data removed]",
      "text/plain": [
       "<Figure size 432x288 with 1 Axes>"
      ]
     },
     "metadata": {
      "needs_background": "light"
     },
     "output_type": "display_data"
    }
   ],
   "source": [
    "plt.barh(list_features, importance)\n",
    "\n",
    "# setting label of y-axis \n",
    "# setting label of x-axis\n",
    "plt.xlabel(\"Feature Importance\")\n",
    "plt.ylabel('param', fontsize = 12)\n",
    "plt.yticks(fontsize = 5)\n",
    "plt.title(\"Feature Importance\")\n",
    "plt.show()"
   ]
  },
  {
   "cell_type": "code",
   "execution_count": 65,
   "id": "6d11c4ec",
   "metadata": {},
   "outputs": [
    {
     "data": {
      "image/png": "[encoded data removed]",
      "text/plain": [
       "<Figure size 432x288 with 1 Axes>"
      ]
     },
     "metadata": {
      "needs_background": "light"
     },
     "output_type": "display_data"
    }
   ],
   "source": [
    "import matplotlib.pyplot as plt\n",
    "x_line = np.linspace(0, 30, 100)\n",
    "y_line = np.linspace(0, 30, 100)\n",
    "# Plot the arrays\n",
    "plt.scatter(y_test, grid_predictions_svm,color = 'red', s=10, label = 'test')\n",
    "plt.scatter(y_train, grid_pred_train_svm,color = 'blue', s=5, label = 'train')\n",
    "plt.plot(x_line,y_line)\n",
    "\n",
    "# Add labels and title\n",
    "plt.xlabel(\"Predicted rate of wax deposition\")\n",
    "plt.ylabel(\"Measured rate of wax deposition\")\n",
    "plt.title(\"Cross plots of the established SVM models for rate of wax deposition\")\n",
    "plt.legend()\n",
    "# Show the plot\n",
    "plt.show()"
   ]
  },
  {
   "cell_type": "code",
   "execution_count": 67,
   "id": "c6768643",
   "metadata": {},
   "outputs": [
    {
     "data": {
      "text/plain": [
       "<function matplotlib.pyplot.plot(*args, scalex=True, scaley=True, data=None, **kwargs)>"
      ]
     },
     "execution_count": 67,
     "metadata": {},
     "output_type": "execute_result"
    },
    {
     "data": {
      "image/png": "[encoded data removed]",
      "text/plain": [
       "<Figure size 432x288 with 1 Axes>"
      ]
     },
     "metadata": {
      "needs_background": "light"
     },
     "output_type": "display_data"
    }
   ],
   "source": [
    "error = []\n",
    "i=0\n",
    "error = y_test-grid_predictions_svm\n",
    "plt.scatter(y_test, error, color='red', s=10, label = 'test')\n",
    "error_pred = y_train-grid_pred_train_svm\n",
    "plt.scatter(y_train, error_pred, color = 'blue', s=5, label = 'train')\n",
    "x = [0,30]\n",
    "y_1 = [0,0]\n",
    "plt.plot(x,y_1)\n",
    "plt.ylabel(\"Error in Prediction of weight% of wax\")\n",
    "plt.xlabel(\"Measured weight% of wax\")\n",
    "plt.title(\"Error distribution plot for the proposed SVM model\")\n",
    "plt.legend()\n",
    "plt.plot\n"
   ]
  },
  {
   "cell_type": "markdown",
   "id": "83afc07b",
   "metadata": {},
   "source": [
    "### Model - 03 XGBoost"
   ]
  },
  {
   "cell_type": "code",
   "execution_count": 68,
   "id": "2dfb73e1",
   "metadata": {},
   "outputs": [
    {
     "name": "stdout",
     "output_type": "stream",
     "text": [
      "done grid search\n",
      "Fitting 5 folds for each of 25 candidates, totalling 125 fits\n",
      "Best set of hyperparameters:  {'learning_rate': 1, 'n_estimators': 100}\n",
      "Best score:  -0.004428543887179553\n"
     ]
    }
   ],
   "source": [
    "import xgboost as xgb\n",
    "import sklearn\n",
    "from sklearn.model_selection import GridSearchCV\n",
    "\n",
    "# Define the hyperparameter grid\n",
    "param_grid = {\n",
    "    'learning_rate': [0.001,0.01,0.1,0.3,1], 'n_estimators': [10,100,1000,10000,100000]\n",
    "}\n",
    "\n",
    "# Create the XGBoost model object\n",
    "xgb_model = xgb.XGBRegressor()\n",
    "\n",
    "# Create the GridSearchCV object\n",
    "grid_search = GridSearchCV(xgb_model, param_grid, cv=5, scoring='neg_mean_squared_error', verbose=1)\n",
    "print(\"done grid search\")\n",
    "# Fit the GridSearchCV object to the training data\n",
    "grid_search.fit(X_train, y_train)\n",
    "\n",
    "# Print the best set of hyperparameters and the corresponding score\n",
    "print(\"Best set of hyperparameters: \", grid_search.best_params_)\n",
    "print(\"Best score: \", grid_search.best_score_)"
   ]
  },
  {
   "cell_type": "code",
   "execution_count": 69,
   "id": "e79ff7bc",
   "metadata": {},
   "outputs": [],
   "source": [
    "feature_importance_weight = grid_search.best_estimator_.get_booster().get_score(importance_type='weight')"
   ]
  },
  {
   "cell_type": "code",
   "execution_count": 70,
   "id": "b43cd47a",
   "metadata": {},
   "outputs": [
    {
     "data": {
      "text/plain": [
       "{'Oil Temperature': 30.0,\n",
       " 'Wall Temperature': 4.0,\n",
       " 'Rotation Speed': 10.0,\n",
       " 'Wall Shear Stress': 15.0,\n",
       " 'Oil Viscosity': 3.0,\n",
       " 'Wax Crystal Solubility Coefficient': 4.0,\n",
       " 'Temperature Gradient': 4.0}"
      ]
     },
     "execution_count": 70,
     "metadata": {},
     "output_type": "execute_result"
    }
   ],
   "source": [
    "grid_search.best_estimator_.get_booster().get_score(importance_type='weight')"
   ]
  },
  {
   "cell_type": "code",
   "execution_count": 90,
   "id": "8e69c67d",
   "metadata": {},
   "outputs": [
    {
     "data": {
      "image/png": "[encoded data removed]",
      "text/plain": [
       "<Figure size 432x288 with 1 Axes>"
      ]
     },
     "metadata": {
      "needs_background": "light"
     },
     "output_type": "display_data"
    }
   ],
   "source": [
    "y_feature=list(feature_importance_weight.keys())\n",
    " \n",
    "# getting values against each value of y\n",
    "x_feature=list(feature_importance_weight.values())\n",
    "plt.barh(y_feature, x_feature)\n",
    "# setting label of y-axis\n",
    "plt.ylabel(\"Parameters\")\n",
    "plt.yticks(fontsize = 10) \n",
    "# setting label of x-axis\n",
    "plt.xlabel(\"importance\")\n",
    "plt.title(\"Feature Importance\")\n",
    "plt.show()"
   ]
  },
  {
   "cell_type": "code",
   "execution_count": 72,
   "id": "6dff77a7",
   "metadata": {},
   "outputs": [],
   "source": [
    "import xgboost as xgb"
   ]
  },
  {
   "cell_type": "code",
   "execution_count": 73,
   "id": "963a0241",
   "metadata": {},
   "outputs": [],
   "source": [
    "grid_predictions_xgb = grid_search.predict(X_test)\n",
    "grid_pred_train_xgb = grid_search.predict(X_train)\n",
    "grid_pred_all_xgb = grid_search.predict(X)"
   ]
  },
  {
   "cell_type": "code",
   "execution_count": 74,
   "id": "a8a4357d",
   "metadata": {},
   "outputs": [
    {
     "name": "stdout",
     "output_type": "stream",
     "text": [
      "R2 score: Test 0.999999998994576\n",
      "R2 score: Train 0.9999999990779043\n",
      "R2 score: Train 0.9999999990743234\n"
     ]
    }
   ],
   "source": [
    "from sklearn.metrics import r2_score\n",
    "print('R2 score: Test', r2_score(y_test, grid_predictions_xgb))\n",
    "print('R2 score: Train', r2_score(y_train, grid_pred_train_xgb))\n",
    "print('R2 score: Train', r2_score(y, grid_pred_all_xgb))"
   ]
  },
  {
   "cell_type": "code",
   "execution_count": 75,
   "id": "530ff704",
   "metadata": {
    "scrolled": true
   },
   "outputs": [
    {
     "name": "stdout",
     "output_type": "stream",
     "text": [
      "RMSE: Test 6.248398472976498e-08\n",
      "RMSE: Train 5.230645094750901e-08\n",
      "RMSE: All Data 5.3412704619493357e-08\n"
     ]
    }
   ],
   "source": [
    "from sklearn.metrics import mean_squared_error\n",
    "print('RMSE: Test', mean_squared_error(y_test, grid_predictions_xgb))\n",
    "print('RMSE: Train', mean_squared_error(y_train, grid_pred_train_xgb))\n",
    "print('RMSE: All Data', mean_squared_error(y, grid_pred_all_xgb))"
   ]
  },
  {
   "cell_type": "code",
   "execution_count": 76,
   "id": "69e91165",
   "metadata": {
    "scrolled": true
   },
   "outputs": [
    {
     "data": {
      "image/png": "[encoded data removed]",
      "text/plain": [
       "<Figure size 432x288 with 1 Axes>"
      ]
     },
     "metadata": {
      "needs_background": "light"
     },
     "output_type": "display_data"
    }
   ],
   "source": [
    "import matplotlib.pyplot as plt\n",
    "x_line = np.linspace(0, 30, 100)\n",
    "y_line = np.linspace(0, 30, 100)\n",
    "# Plot the arrays\n",
    "plt.scatter(y_test, grid_predictions_xgb,color = 'red', s=10, label = 'test')\n",
    "plt.scatter(y_train, grid_pred_train_xgb,color = 'blue', s=5, label = 'train')\n",
    "plt.plot(x_line,y_line)\n",
    "\n",
    "# Add labels and title\n",
    "plt.xlabel(\"Predicted Rate of Wax Deposition\")\n",
    "plt.ylabel(\"Measured Rate of Wax Deposition\")\n",
    "plt.title(\"Cross plots of the established XGBoost models for Rate of Wax Deposition\")\n",
    "plt.legend()\n",
    "# Show the plot\n",
    "plt.show()"
   ]
  },
  {
   "cell_type": "code",
   "execution_count": 77,
   "id": "f7340777",
   "metadata": {},
   "outputs": [
    {
     "data": {
      "text/plain": [
       "<function matplotlib.pyplot.plot(*args, scalex=True, scaley=True, data=None, **kwargs)>"
      ]
     },
     "execution_count": 77,
     "metadata": {},
     "output_type": "execute_result"
    },
    {
     "data": {
      "image/png": "[encoded data removed]",
      "text/plain": [
       "<Figure size 432x288 with 1 Axes>"
      ]
     },
     "metadata": {
      "needs_background": "light"
     },
     "output_type": "display_data"
    }
   ],
   "source": [
    "error = []\n",
    "i=0\n",
    "error = y_test-grid_predictions_xgb\n",
    "plt.scatter(y_test, error, color='red', s=10, label = 'test')\n",
    "error_pred = y_train-grid_pred_train_xgb\n",
    "plt.scatter(y_train, error_pred, color = 'blue', s=5, label = 'train')\n",
    "x = [0,30]\n",
    "y_1 = [0,0]\n",
    "plt.plot(x,y_1)\n",
    "plt.ylabel(\"Error in Prediction of Rate of Wax Deposition\")\n",
    "plt.xlabel(\"Measured Rate of Wax Deposition\")\n",
    "plt.title(\"Error distribution plot for the proposed XGBoost model\")\n",
    "plt.legend()\n",
    "plt.plot\n"
   ]
  },
  {
   "cell_type": "markdown",
   "id": "b69782e7",
   "metadata": {},
   "source": [
    "### Model - 04 LightGBM"
   ]
  },
  {
   "cell_type": "code",
   "execution_count": 78,
   "id": "5a6e3546",
   "metadata": {},
   "outputs": [
    {
     "name": "stdout",
     "output_type": "stream",
     "text": [
      "Requirement already satisfied: lightGBM in c:\\users\\amanmsi\\anaconda3\\lib\\site-packages (4.1.0)\n",
      "Requirement already satisfied: numpy in c:\\users\\amanmsi\\anaconda3\\lib\\site-packages (from lightGBM) (1.21.6)\n",
      "Requirement already satisfied: scipy in c:\\users\\amanmsi\\anaconda3\\lib\\site-packages (from lightGBM) (1.7.3)\n"
     ]
    }
   ],
   "source": [
    "import sys\n",
    "!{sys.executable} -m pip install lightGBM"
   ]
  },
  {
   "cell_type": "code",
   "execution_count": 79,
   "id": "ecca3a88",
   "metadata": {},
   "outputs": [],
   "source": [
    "import lightgbm as lgb"
   ]
  },
  {
   "cell_type": "code",
   "execution_count": 80,
   "id": "b2ae3c44",
   "metadata": {},
   "outputs": [],
   "source": [
    "hyperparameter_grid = {\n",
    "    'num_leaves': [31, 63, 127],\n",
    "    'n_estimators': [50, 100, 200],\n",
    "    'max_depth': [-1, 5, 10],\n",
    "    'learning_rate': [0.01, 0.05, 0.1],\n",
    "    'reg_alpha': [0.1, 0.5, 1.0],\n",
    "    'reg_lambda': [0.1, 0.5, 1.0],\n",
    "}"
   ]
  },
  {
   "cell_type": "code",
   "execution_count": 81,
   "id": "cc97766c",
   "metadata": {},
   "outputs": [
    {
     "name": "stdout",
     "output_type": "stream",
     "text": [
      "[LightGBM] [Warning] Found whitespace in feature_names, replace with underlines\n",
      "[LightGBM] [Info] Auto-choosing col-wise multi-threading, the overhead of testing was 0.002774 seconds.\n",
      "You can set `force_col_wise=true` to remove the overhead.\n",
      "[LightGBM] [Info] Total Bins 67\n",
      "[LightGBM] [Info] Number of data points in the train set: 82, number of used features: 6\n",
      "[LightGBM] [Info] Start training from score 12.605976\n",
      "[LightGBM] [Warning] No further splits with positive gain, best gain: -inf\n",
      "[LightGBM] [Warning] No further splits with positive gain, best gain: -inf\n",
      "[LightGBM] [Warning] No further splits with positive gain, best gain: -inf\n",
      "[LightGBM] [Warning] No further splits with positive gain, best gain: -inf\n",
      "[LightGBM] [Warning] No further splits with positive gain, best gain: -inf\n",
      "[LightGBM] [Warning] No further splits with positive gain, best gain: -inf\n",
      "[LightGBM] [Warning] No further splits with positive gain, best gain: -inf\n",
      "[LightGBM] [Warning] No further splits with positive gain, best gain: -inf\n",
      "[LightGBM] [Warning] No further splits with positive gain, best gain: -inf\n",
      "[LightGBM] [Warning] No further splits with positive gain, best gain: -inf\n",
      "[LightGBM] [Warning] No further splits with positive gain, best gain: -inf\n",
      "[LightGBM] [Warning] No further splits with positive gain, best gain: -inf\n",
      "[LightGBM] [Warning] No further splits with positive gain, best gain: -inf\n",
      "[LightGBM] [Warning] No further splits with positive gain, best gain: -inf\n",
      "[LightGBM] [Warning] No further splits with positive gain, best gain: -inf\n",
      "[LightGBM] [Warning] No further splits with positive gain, best gain: -inf\n",
      "[LightGBM] [Warning] No further splits with positive gain, best gain: -inf\n",
      "[LightGBM] [Warning] No further splits with positive gain, best gain: -inf\n",
      "[LightGBM] [Warning] No further splits with positive gain, best gain: -inf\n",
      "[LightGBM] [Warning] No further splits with positive gain, best gain: -inf\n",
      "[LightGBM] [Warning] No further splits with positive gain, best gain: -inf\n",
      "[LightGBM] [Warning] No further splits with positive gain, best gain: -inf\n",
      "[LightGBM] [Warning] No further splits with positive gain, best gain: -inf\n",
      "[LightGBM] [Warning] No further splits with positive gain, best gain: -inf\n",
      "[LightGBM] [Warning] No further splits with positive gain, best gain: -inf\n",
      "[LightGBM] [Warning] No further splits with positive gain, best gain: -inf\n",
      "[LightGBM] [Warning] No further splits with positive gain, best gain: -inf\n",
      "[LightGBM] [Warning] No further splits with positive gain, best gain: -inf\n",
      "[LightGBM] [Warning] No further splits with positive gain, best gain: -inf\n",
      "[LightGBM] [Warning] No further splits with positive gain, best gain: -inf\n",
      "[LightGBM] [Warning] No further splits with positive gain, best gain: -inf\n",
      "[LightGBM] [Warning] No further splits with positive gain, best gain: -inf\n",
      "[LightGBM] [Warning] No further splits with positive gain, best gain: -inf\n",
      "[LightGBM] [Warning] No further splits with positive gain, best gain: -inf\n",
      "[LightGBM] [Warning] No further splits with positive gain, best gain: -inf\n",
      "[LightGBM] [Warning] No further splits with positive gain, best gain: -inf\n",
      "[LightGBM] [Warning] No further splits with positive gain, best gain: -inf\n",
      "[LightGBM] [Warning] No further splits with positive gain, best gain: -inf\n",
      "[LightGBM] [Warning] No further splits with positive gain, best gain: -inf\n",
      "[LightGBM] [Warning] No further splits with positive gain, best gain: -inf\n",
      "[LightGBM] [Warning] No further splits with positive gain, best gain: -inf\n",
      "[LightGBM] [Warning] No further splits with positive gain, best gain: -inf\n",
      "[LightGBM] [Warning] No further splits with positive gain, best gain: -inf\n",
      "[LightGBM] [Warning] No further splits with positive gain, best gain: -inf\n",
      "[LightGBM] [Warning] No further splits with positive gain, best gain: -inf\n",
      "[LightGBM] [Warning] No further splits with positive gain, best gain: -inf\n",
      "[LightGBM] [Warning] No further splits with positive gain, best gain: -inf\n",
      "[LightGBM] [Warning] No further splits with positive gain, best gain: -inf\n",
      "[LightGBM] [Warning] No further splits with positive gain, best gain: -inf\n",
      "[LightGBM] [Warning] No further splits with positive gain, best gain: -inf\n",
      "[LightGBM] [Warning] No further splits with positive gain, best gain: -inf\n",
      "[LightGBM] [Warning] No further splits with positive gain, best gain: -inf\n",
      "[LightGBM] [Warning] No further splits with positive gain, best gain: -inf\n",
      "[LightGBM] [Warning] No further splits with positive gain, best gain: -inf\n",
      "[LightGBM] [Warning] No further splits with positive gain, best gain: -inf\n",
      "[LightGBM] [Warning] No further splits with positive gain, best gain: -inf\n",
      "[LightGBM] [Warning] No further splits with positive gain, best gain: -inf\n",
      "[LightGBM] [Warning] No further splits with positive gain, best gain: -inf\n",
      "[LightGBM] [Warning] No further splits with positive gain, best gain: -inf\n",
      "[LightGBM] [Warning] No further splits with positive gain, best gain: -inf\n",
      "[LightGBM] [Warning] No further splits with positive gain, best gain: -inf\n",
      "[LightGBM] [Warning] No further splits with positive gain, best gain: -inf\n",
      "[LightGBM] [Warning] No further splits with positive gain, best gain: -inf\n",
      "[LightGBM] [Warning] No further splits with positive gain, best gain: -inf\n",
      "[LightGBM] [Warning] No further splits with positive gain, best gain: -inf\n",
      "[LightGBM] [Warning] No further splits with positive gain, best gain: -inf\n",
      "[LightGBM] [Warning] No further splits with positive gain, best gain: -inf\n",
      "[LightGBM] [Warning] No further splits with positive gain, best gain: -inf\n",
      "[LightGBM] [Warning] No further splits with positive gain, best gain: -inf\n",
      "[LightGBM] [Warning] No further splits with positive gain, best gain: -inf\n",
      "[LightGBM] [Warning] No further splits with positive gain, best gain: -inf\n",
      "[LightGBM] [Warning] No further splits with positive gain, best gain: -inf\n",
      "[LightGBM] [Warning] No further splits with positive gain, best gain: -inf\n",
      "[LightGBM] [Warning] No further splits with positive gain, best gain: -inf\n",
      "[LightGBM] [Warning] No further splits with positive gain, best gain: -inf\n",
      "[LightGBM] [Warning] No further splits with positive gain, best gain: -inf\n",
      "[LightGBM] [Warning] No further splits with positive gain, best gain: -inf\n",
      "[LightGBM] [Warning] No further splits with positive gain, best gain: -inf\n",
      "[LightGBM] [Warning] No further splits with positive gain, best gain: -inf\n",
      "[LightGBM] [Warning] No further splits with positive gain, best gain: -inf\n",
      "[LightGBM] [Warning] No further splits with positive gain, best gain: -inf\n",
      "[LightGBM] [Warning] No further splits with positive gain, best gain: -inf\n",
      "[LightGBM] [Warning] No further splits with positive gain, best gain: -inf\n",
      "[LightGBM] [Warning] No further splits with positive gain, best gain: -inf\n",
      "[LightGBM] [Warning] No further splits with positive gain, best gain: -inf\n",
      "[LightGBM] [Warning] No further splits with positive gain, best gain: -inf\n",
      "[LightGBM] [Warning] No further splits with positive gain, best gain: -inf\n",
      "[LightGBM] [Warning] No further splits with positive gain, best gain: -inf\n",
      "[LightGBM] [Warning] No further splits with positive gain, best gain: -inf\n",
      "[LightGBM] [Warning] No further splits with positive gain, best gain: -inf\n",
      "[LightGBM] [Warning] No further splits with positive gain, best gain: -inf\n",
      "[LightGBM] [Warning] No further splits with positive gain, best gain: -inf\n",
      "[LightGBM] [Warning] No further splits with positive gain, best gain: -inf\n",
      "[LightGBM] [Warning] No further splits with positive gain, best gain: -inf\n",
      "[LightGBM] [Warning] No further splits with positive gain, best gain: -inf\n",
      "[LightGBM] [Warning] No further splits with positive gain, best gain: -inf\n",
      "[LightGBM] [Warning] No further splits with positive gain, best gain: -inf\n",
      "[LightGBM] [Warning] No further splits with positive gain, best gain: -inf\n",
      "[LightGBM] [Warning] No further splits with positive gain, best gain: -inf\n",
      "[LightGBM] [Warning] No further splits with positive gain, best gain: -inf\n",
      "[LightGBM] [Warning] No further splits with positive gain, best gain: -inf\n",
      "[LightGBM] [Warning] No further splits with positive gain, best gain: -inf\n",
      "[LightGBM] [Warning] No further splits with positive gain, best gain: -inf\n",
      "[LightGBM] [Warning] No further splits with positive gain, best gain: -inf\n",
      "[LightGBM] [Warning] No further splits with positive gain, best gain: -inf\n",
      "[LightGBM] [Warning] No further splits with positive gain, best gain: -inf\n",
      "[LightGBM] [Warning] No further splits with positive gain, best gain: -inf\n",
      "[LightGBM] [Warning] No further splits with positive gain, best gain: -inf\n",
      "[LightGBM] [Warning] No further splits with positive gain, best gain: -inf\n",
      "[LightGBM] [Warning] No further splits with positive gain, best gain: -inf\n",
      "[LightGBM] [Warning] No further splits with positive gain, best gain: -inf\n",
      "[LightGBM] [Warning] No further splits with positive gain, best gain: -inf\n",
      "[LightGBM] [Warning] No further splits with positive gain, best gain: -inf\n",
      "[LightGBM] [Warning] No further splits with positive gain, best gain: -inf\n",
      "[LightGBM] [Warning] No further splits with positive gain, best gain: -inf\n",
      "[LightGBM] [Warning] No further splits with positive gain, best gain: -inf\n",
      "[LightGBM] [Warning] No further splits with positive gain, best gain: -inf\n",
      "[LightGBM] [Warning] No further splits with positive gain, best gain: -inf\n",
      "[LightGBM] [Warning] No further splits with positive gain, best gain: -inf\n"
     ]
    },
    {
     "name": "stdout",
     "output_type": "stream",
     "text": [
      "[LightGBM] [Warning] No further splits with positive gain, best gain: -inf\n",
      "[LightGBM] [Warning] No further splits with positive gain, best gain: -inf\n",
      "[LightGBM] [Warning] No further splits with positive gain, best gain: -inf\n",
      "[LightGBM] [Warning] No further splits with positive gain, best gain: -inf\n",
      "[LightGBM] [Warning] No further splits with positive gain, best gain: -inf\n",
      "[LightGBM] [Warning] No further splits with positive gain, best gain: -inf\n",
      "[LightGBM] [Warning] No further splits with positive gain, best gain: -inf\n",
      "[LightGBM] [Warning] No further splits with positive gain, best gain: -inf\n",
      "[LightGBM] [Warning] No further splits with positive gain, best gain: -inf\n",
      "[LightGBM] [Warning] No further splits with positive gain, best gain: -inf\n",
      "[LightGBM] [Warning] No further splits with positive gain, best gain: -inf\n",
      "[LightGBM] [Warning] No further splits with positive gain, best gain: -inf\n",
      "[LightGBM] [Warning] No further splits with positive gain, best gain: -inf\n",
      "[LightGBM] [Warning] No further splits with positive gain, best gain: -inf\n",
      "[LightGBM] [Warning] No further splits with positive gain, best gain: -inf\n",
      "[LightGBM] [Warning] No further splits with positive gain, best gain: -inf\n",
      "[LightGBM] [Warning] No further splits with positive gain, best gain: -inf\n",
      "[LightGBM] [Warning] No further splits with positive gain, best gain: -inf\n",
      "[LightGBM] [Warning] No further splits with positive gain, best gain: -inf\n",
      "[LightGBM] [Warning] No further splits with positive gain, best gain: -inf\n",
      "[LightGBM] [Warning] No further splits with positive gain, best gain: -inf\n",
      "[LightGBM] [Warning] No further splits with positive gain, best gain: -inf\n",
      "[LightGBM] [Warning] No further splits with positive gain, best gain: -inf\n",
      "[LightGBM] [Warning] No further splits with positive gain, best gain: -inf\n",
      "[LightGBM] [Warning] No further splits with positive gain, best gain: -inf\n",
      "[LightGBM] [Warning] No further splits with positive gain, best gain: -inf\n",
      "[LightGBM] [Warning] No further splits with positive gain, best gain: -inf\n",
      "[LightGBM] [Warning] No further splits with positive gain, best gain: -inf\n",
      "[LightGBM] [Warning] No further splits with positive gain, best gain: -inf\n",
      "[LightGBM] [Warning] No further splits with positive gain, best gain: -inf\n",
      "[LightGBM] [Warning] No further splits with positive gain, best gain: -inf\n",
      "[LightGBM] [Warning] No further splits with positive gain, best gain: -inf\n",
      "[LightGBM] [Warning] No further splits with positive gain, best gain: -inf\n",
      "[LightGBM] [Warning] No further splits with positive gain, best gain: -inf\n",
      "[LightGBM] [Warning] No further splits with positive gain, best gain: -inf\n",
      "[LightGBM] [Warning] No further splits with positive gain, best gain: -inf\n",
      "[LightGBM] [Warning] No further splits with positive gain, best gain: -inf\n",
      "[LightGBM] [Warning] No further splits with positive gain, best gain: -inf\n",
      "[LightGBM] [Warning] No further splits with positive gain, best gain: -inf\n",
      "[LightGBM] [Warning] No further splits with positive gain, best gain: -inf\n",
      "[LightGBM] [Warning] No further splits with positive gain, best gain: -inf\n",
      "[LightGBM] [Warning] No further splits with positive gain, best gain: -inf\n",
      "[LightGBM] [Warning] No further splits with positive gain, best gain: -inf\n",
      "[LightGBM] [Warning] No further splits with positive gain, best gain: -inf\n",
      "[LightGBM] [Warning] No further splits with positive gain, best gain: -inf\n",
      "[LightGBM] [Warning] No further splits with positive gain, best gain: -inf\n",
      "[LightGBM] [Warning] No further splits with positive gain, best gain: -inf\n",
      "[LightGBM] [Warning] No further splits with positive gain, best gain: -inf\n",
      "[LightGBM] [Warning] No further splits with positive gain, best gain: -inf\n",
      "[LightGBM] [Warning] No further splits with positive gain, best gain: -inf\n",
      "[LightGBM] [Warning] No further splits with positive gain, best gain: -inf\n",
      "[LightGBM] [Warning] No further splits with positive gain, best gain: -inf\n",
      "[LightGBM] [Warning] No further splits with positive gain, best gain: -inf\n",
      "[LightGBM] [Warning] No further splits with positive gain, best gain: -inf\n",
      "[LightGBM] [Warning] No further splits with positive gain, best gain: -inf\n",
      "[LightGBM] [Warning] No further splits with positive gain, best gain: -inf\n",
      "[LightGBM] [Warning] No further splits with positive gain, best gain: -inf\n",
      "[LightGBM] [Warning] No further splits with positive gain, best gain: -inf\n",
      "[LightGBM] [Warning] No further splits with positive gain, best gain: -inf\n",
      "[LightGBM] [Warning] No further splits with positive gain, best gain: -inf\n",
      "[LightGBM] [Warning] No further splits with positive gain, best gain: -inf\n",
      "[LightGBM] [Warning] No further splits with positive gain, best gain: -inf\n",
      "[LightGBM] [Warning] No further splits with positive gain, best gain: -inf\n",
      "[LightGBM] [Warning] No further splits with positive gain, best gain: -inf\n",
      "[LightGBM] [Warning] No further splits with positive gain, best gain: -inf\n",
      "[LightGBM] [Warning] No further splits with positive gain, best gain: -inf\n",
      "[LightGBM] [Warning] No further splits with positive gain, best gain: -inf\n",
      "[LightGBM] [Warning] No further splits with positive gain, best gain: -inf\n",
      "[LightGBM] [Warning] No further splits with positive gain, best gain: -inf\n",
      "[LightGBM] [Warning] No further splits with positive gain, best gain: -inf\n",
      "[LightGBM] [Warning] No further splits with positive gain, best gain: -inf\n",
      "[LightGBM] [Warning] No further splits with positive gain, best gain: -inf\n",
      "[LightGBM] [Warning] No further splits with positive gain, best gain: -inf\n",
      "[LightGBM] [Warning] No further splits with positive gain, best gain: -inf\n",
      "[LightGBM] [Warning] No further splits with positive gain, best gain: -inf\n",
      "[LightGBM] [Warning] No further splits with positive gain, best gain: -inf\n",
      "[LightGBM] [Warning] No further splits with positive gain, best gain: -inf\n",
      "[LightGBM] [Warning] No further splits with positive gain, best gain: -inf\n",
      "[LightGBM] [Warning] No further splits with positive gain, best gain: -inf\n",
      "[LightGBM] [Warning] No further splits with positive gain, best gain: -inf\n",
      "[LightGBM] [Warning] No further splits with positive gain, best gain: -inf\n"
     ]
    }
   ],
   "source": [
    "lgb_model = lgb.LGBMRegressor()\n",
    "\n",
    "# Create a GridSearchCV object\n",
    "grid_search_lgbm = GridSearchCV(lgb_model, hyperparameter_grid, cv=5, scoring='neg_mean_squared_error', n_jobs=-1)\n",
    "\n",
    "# Train the model\n",
    "grid_search_lgbm.fit(X_train, y_train)\n",
    "\n",
    "# Get the best model\n",
    "best_model = grid_search_lgbm.best_estimator_\n",
    "\n"
   ]
  },
  {
   "cell_type": "code",
   "execution_count": 82,
   "id": "3d82e509",
   "metadata": {},
   "outputs": [],
   "source": [
    "grid_predictions_lgbm = best_model.predict(X_test)\n",
    "grid_pred_train_lgbm = best_model.predict(X_train)\n",
    "grid_pred_all_lgbm = best_model.predict(X)"
   ]
  },
  {
   "cell_type": "code",
   "execution_count": 83,
   "id": "cc6f4eea",
   "metadata": {},
   "outputs": [
    {
     "name": "stdout",
     "output_type": "stream",
     "text": [
      "R2 score: Test 0.9273935107582577\n",
      "R2 score: Train 0.9397117086924786\n",
      "R2 score: Train 0.9386733090843975\n"
     ]
    }
   ],
   "source": [
    "from sklearn.metrics import r2_score\n",
    "print('R2 score: Test', r2_score(y_test, grid_predictions_lgbm))\n",
    "print('R2 score: Train', r2_score(y_train, grid_pred_train_lgbm))\n",
    "print('R2 score: Train', r2_score(y, grid_pred_all_lgbm))"
   ]
  },
  {
   "cell_type": "code",
   "execution_count": 84,
   "id": "e7f8feaa",
   "metadata": {},
   "outputs": [
    {
     "name": "stdout",
     "output_type": "stream",
     "text": [
      "RMSE: Test 4.51226829886412\n",
      "RMSE: Train 3.419890506084121\n",
      "RMSE: All Data 3.538627222690642\n"
     ]
    }
   ],
   "source": [
    "from sklearn.metrics import mean_squared_error\n",
    "print('RMSE: Test', mean_squared_error(y_test, grid_predictions_lgbm))\n",
    "print('RMSE: Train', mean_squared_error(y_train, grid_pred_train_lgbm))\n",
    "print('RMSE: All Data', mean_squared_error(y, grid_pred_all_lgbm))"
   ]
  },
  {
   "cell_type": "code",
   "execution_count": 87,
   "id": "9e535065",
   "metadata": {},
   "outputs": [
    {
     "data": {
      "image/png": "[encoded data removed]",
      "text/plain": [
       "<Figure size 432x288 with 1 Axes>"
      ]
     },
     "metadata": {
      "needs_background": "light"
     },
     "output_type": "display_data"
    }
   ],
   "source": [
    "import matplotlib.pyplot as plt\n",
    "x_line = np.linspace(0, 30, 100)\n",
    "y_line = np.linspace(0, 30, 100)\n",
    "# Plot the arrays\n",
    "plt.scatter(y_test, grid_predictions_lgbm,color = 'red', s=10, label = 'test')\n",
    "plt.scatter(y_train, grid_pred_train_lgbm,color = 'blue', s=5, label = 'train')\n",
    "plt.plot(x_line,y_line)\n",
    "\n",
    "# Add labels and title\n",
    "plt.xlabel(\"Predicted Rate of Wax Deposition\")\n",
    "plt.ylabel(\"Measured Rate of Wax Deposition\")\n",
    "plt.title(\"Cross plots of the established LGBM models for Rate of Wax Deposition\")\n",
    "plt.legend()\n",
    "# Show the plot\n",
    "plt.show()"
   ]
  },
  {
   "cell_type": "code",
   "execution_count": 88,
   "id": "de8c8884",
   "metadata": {},
   "outputs": [
    {
     "data": {
      "text/plain": [
       "<function matplotlib.pyplot.plot(*args, scalex=True, scaley=True, data=None, **kwargs)>"
      ]
     },
     "execution_count": 88,
     "metadata": {},
     "output_type": "execute_result"
    },
    {
     "data": {
      "image/png": "[encoded data removed]",
      "text/plain": [
       "<Figure size 432x288 with 1 Axes>"
      ]
     },
     "metadata": {
      "needs_background": "light"
     },
     "output_type": "display_data"
    }
   ],
   "source": [
    "error = []\n",
    "i=0\n",
    "error = y_test-grid_predictions_lgbm\n",
    "plt.scatter(y_test, error, color='red', s=10, label = 'test')\n",
    "error_pred = y_train-grid_pred_train_lgbm\n",
    "plt.scatter(y_train, error_pred, color = 'blue', s=5, label = 'train')\n",
    "x = [0,30]\n",
    "y_1 = [0,0]\n",
    "plt.plot(x,y_1)\n",
    "plt.ylabel(\"Error in Prediction of Rate of Wax Deposition\")\n",
    "plt.xlabel(\"Measured Rate of Wax Deposition\")\n",
    "plt.title(\"Error distribution plot for the proposed LGBM model\")\n",
    "plt.legend()\n",
    "plt.plot"
   ]
  },
  {
   "cell_type": "markdown",
   "id": "fed8c7ff",
   "metadata": {},
   "source": [
    "### Pairplots"
   ]
  },
  {
   "cell_type": "code",
   "execution_count": 91,
   "id": "4b20373b",
   "metadata": {},
   "outputs": [],
   "source": [
    "import seaborn as sns"
   ]
  },
  {
   "cell_type": "code",
   "execution_count": 98,
   "id": "5e3ac824",
   "metadata": {},
   "outputs": [],
   "source": [
    "df_b = df.iloc[:,5:]"
   ]
  },
  {
   "cell_type": "code",
   "execution_count": 99,
   "id": "e15650d0",
   "metadata": {},
   "outputs": [
    {
     "data": {
      "text/html": [
       "<div>\n",
       "<style scoped>\n",
       "    .dataframe tbody tr th:only-of-type {\n",
       "        vertical-align: middle;\n",
       "    }\n",
       "\n",
       "    .dataframe tbody tr th {\n",
       "        vertical-align: top;\n",
       "    }\n",
       "\n",
       "    .dataframe thead th {\n",
       "        text-align: right;\n",
       "    }\n",
       "</style>\n",
       "<table border=\"1\" class=\"dataframe\">\n",
       "  <thead>\n",
       "    <tr style=\"text-align: right;\">\n",
       "      <th></th>\n",
       "      <th>Oil Temperature</th>\n",
       "      <th>Wall Temperature</th>\n",
       "      <th>Rotation Speed</th>\n",
       "      <th>Wall Shear Stress</th>\n",
       "      <th>Oil Viscosity</th>\n",
       "      <th>Wax Crystal Solubility Coefficient</th>\n",
       "      <th>Temperature Gradient</th>\n",
       "      <th>Wax Deposition Rate</th>\n",
       "    </tr>\n",
       "  </thead>\n",
       "  <tbody>\n",
       "    <tr>\n",
       "      <th>0</th>\n",
       "      <td>42.0</td>\n",
       "      <td>32.0</td>\n",
       "      <td>150.0</td>\n",
       "      <td>3.58</td>\n",
       "      <td>0.21</td>\n",
       "      <td>17.70</td>\n",
       "      <td>579.0</td>\n",
       "      <td>9.14</td>\n",
       "    </tr>\n",
       "    <tr>\n",
       "      <th>1</th>\n",
       "      <td>45.0</td>\n",
       "      <td>35.0</td>\n",
       "      <td>150.0</td>\n",
       "      <td>2.72</td>\n",
       "      <td>0.13</td>\n",
       "      <td>6.07</td>\n",
       "      <td>578.8</td>\n",
       "      <td>4.96</td>\n",
       "    </tr>\n",
       "    <tr>\n",
       "      <th>2</th>\n",
       "      <td>48.0</td>\n",
       "      <td>38.0</td>\n",
       "      <td>150.0</td>\n",
       "      <td>2.25</td>\n",
       "      <td>0.09</td>\n",
       "      <td>3.47</td>\n",
       "      <td>578.9</td>\n",
       "      <td>5.56</td>\n",
       "    </tr>\n",
       "    <tr>\n",
       "      <th>3</th>\n",
       "      <td>51.0</td>\n",
       "      <td>41.0</td>\n",
       "      <td>150.0</td>\n",
       "      <td>1.89</td>\n",
       "      <td>0.07</td>\n",
       "      <td>3.88</td>\n",
       "      <td>576.8</td>\n",
       "      <td>7.89</td>\n",
       "    </tr>\n",
       "    <tr>\n",
       "      <th>4</th>\n",
       "      <td>55.0</td>\n",
       "      <td>45.0</td>\n",
       "      <td>150.0</td>\n",
       "      <td>1.51</td>\n",
       "      <td>0.05</td>\n",
       "      <td>5.93</td>\n",
       "      <td>574.3</td>\n",
       "      <td>16.26</td>\n",
       "    </tr>\n",
       "    <tr>\n",
       "      <th>...</th>\n",
       "      <td>...</td>\n",
       "      <td>...</td>\n",
       "      <td>...</td>\n",
       "      <td>...</td>\n",
       "      <td>...</td>\n",
       "      <td>...</td>\n",
       "      <td>...</td>\n",
       "      <td>...</td>\n",
       "    </tr>\n",
       "    <tr>\n",
       "      <th>87</th>\n",
       "      <td>47.0</td>\n",
       "      <td>32.0</td>\n",
       "      <td>150.0</td>\n",
       "      <td>2.85</td>\n",
       "      <td>0.22</td>\n",
       "      <td>17.70</td>\n",
       "      <td>867.6</td>\n",
       "      <td>10.55</td>\n",
       "    </tr>\n",
       "    <tr>\n",
       "      <th>88</th>\n",
       "      <td>52.0</td>\n",
       "      <td>32.0</td>\n",
       "      <td>150.0</td>\n",
       "      <td>2.33</td>\n",
       "      <td>0.23</td>\n",
       "      <td>17.70</td>\n",
       "      <td>1152.0</td>\n",
       "      <td>12.25</td>\n",
       "    </tr>\n",
       "    <tr>\n",
       "      <th>89</th>\n",
       "      <td>50.0</td>\n",
       "      <td>45.0</td>\n",
       "      <td>150.0</td>\n",
       "      <td>1.76</td>\n",
       "      <td>0.05</td>\n",
       "      <td>5.93</td>\n",
       "      <td>288.4</td>\n",
       "      <td>11.33</td>\n",
       "    </tr>\n",
       "    <tr>\n",
       "      <th>90</th>\n",
       "      <td>60.0</td>\n",
       "      <td>45.0</td>\n",
       "      <td>150.0</td>\n",
       "      <td>1.32</td>\n",
       "      <td>0.05</td>\n",
       "      <td>5.93</td>\n",
       "      <td>859.3</td>\n",
       "      <td>24.22</td>\n",
       "    </tr>\n",
       "    <tr>\n",
       "      <th>91</th>\n",
       "      <td>65.0</td>\n",
       "      <td>45.0</td>\n",
       "      <td>150.0</td>\n",
       "      <td>1.17</td>\n",
       "      <td>0.05</td>\n",
       "      <td>5.93</td>\n",
       "      <td>1143.0</td>\n",
       "      <td>25.44</td>\n",
       "    </tr>\n",
       "  </tbody>\n",
       "</table>\n",
       "<p>92 rows × 8 columns</p>\n",
       "</div>"
      ],
      "text/plain": [
       "    Oil Temperature  Wall Temperature  Rotation Speed  Wall Shear Stress  \\\n",
       "0              42.0              32.0           150.0               3.58   \n",
       "1              45.0              35.0           150.0               2.72   \n",
       "2              48.0              38.0           150.0               2.25   \n",
       "3              51.0              41.0           150.0               1.89   \n",
       "4              55.0              45.0           150.0               1.51   \n",
       "..              ...               ...             ...                ...   \n",
       "87             47.0              32.0           150.0               2.85   \n",
       "88             52.0              32.0           150.0               2.33   \n",
       "89             50.0              45.0           150.0               1.76   \n",
       "90             60.0              45.0           150.0               1.32   \n",
       "91             65.0              45.0           150.0               1.17   \n",
       "\n",
       "    Oil Viscosity  Wax Crystal Solubility Coefficient  Temperature Gradient  \\\n",
       "0            0.21                               17.70                 579.0   \n",
       "1            0.13                                6.07                 578.8   \n",
       "2            0.09                                3.47                 578.9   \n",
       "3            0.07                                3.88                 576.8   \n",
       "4            0.05                                5.93                 574.3   \n",
       "..            ...                                 ...                   ...   \n",
       "87           0.22                               17.70                 867.6   \n",
       "88           0.23                               17.70                1152.0   \n",
       "89           0.05                                5.93                 288.4   \n",
       "90           0.05                                5.93                 859.3   \n",
       "91           0.05                                5.93                1143.0   \n",
       "\n",
       "    Wax Deposition Rate  \n",
       "0                  9.14  \n",
       "1                  4.96  \n",
       "2                  5.56  \n",
       "3                  7.89  \n",
       "4                 16.26  \n",
       "..                  ...  \n",
       "87                10.55  \n",
       "88                12.25  \n",
       "89                11.33  \n",
       "90                24.22  \n",
       "91                25.44  \n",
       "\n",
       "[92 rows x 8 columns]"
      ]
     },
     "execution_count": 99,
     "metadata": {},
     "output_type": "execute_result"
    }
   ],
   "source": [
    "df_b"
   ]
  },
  {
   "cell_type": "code",
   "execution_count": 100,
   "id": "46a14cd2",
   "metadata": {},
   "outputs": [
    {
     "data": {
      "text/plain": [
       "<seaborn.axisgrid.PairGrid at 0x15043e6d520>"
      ]
     },
     "execution_count": 100,
     "metadata": {},
     "output_type": "execute_result"
    },
    {
     "data": {
      "image/png": "[encoded data removed]",
      "text/plain": [
       "<Figure size 1440x1440 with 72 Axes>"
      ]
     },
     "metadata": {
      "needs_background": "light"
     },
     "output_type": "display_data"
    }
   ],
   "source": [
    "sns.pairplot(df_b)"
   ]
  },
  {
   "cell_type": "code",
   "execution_count": 102,
   "id": "f007190c",
   "metadata": {},
   "outputs": [
    {
     "data": {
      "text/html": [
       "<div>\n",
       "<style scoped>\n",
       "    .dataframe tbody tr th:only-of-type {\n",
       "        vertical-align: middle;\n",
       "    }\n",
       "\n",
       "    .dataframe tbody tr th {\n",
       "        vertical-align: top;\n",
       "    }\n",
       "\n",
       "    .dataframe thead th {\n",
       "        text-align: right;\n",
       "    }\n",
       "</style>\n",
       "<table border=\"1\" class=\"dataframe\">\n",
       "  <thead>\n",
       "    <tr style=\"text-align: right;\">\n",
       "      <th></th>\n",
       "      <th>Oil Temperature</th>\n",
       "      <th>Wall Temperature</th>\n",
       "      <th>Rotation Speed</th>\n",
       "      <th>Wall Shear Stress</th>\n",
       "      <th>Oil Viscosity</th>\n",
       "      <th>Wax Crystal Solubility Coefficient</th>\n",
       "      <th>Temperature Gradient</th>\n",
       "      <th>Wax Deposition Rate</th>\n",
       "    </tr>\n",
       "  </thead>\n",
       "  <tbody>\n",
       "    <tr>\n",
       "      <th>count</th>\n",
       "      <td>92.000000</td>\n",
       "      <td>92.000000</td>\n",
       "      <td>92.000000</td>\n",
       "      <td>92.000000</td>\n",
       "      <td>92.000000</td>\n",
       "      <td>92.000000</td>\n",
       "      <td>92.000000</td>\n",
       "      <td>92.000000</td>\n",
       "    </tr>\n",
       "    <tr>\n",
       "      <th>mean</th>\n",
       "      <td>50.326087</td>\n",
       "      <td>39.021739</td>\n",
       "      <td>133.695652</td>\n",
       "      <td>2.075978</td>\n",
       "      <td>0.123261</td>\n",
       "      <td>9.683043</td>\n",
       "      <td>651.213043</td>\n",
       "      <td>12.823043</td>\n",
       "    </tr>\n",
       "    <tr>\n",
       "      <th>std</th>\n",
       "      <td>7.427464</td>\n",
       "      <td>6.203470</td>\n",
       "      <td>33.239636</td>\n",
       "      <td>1.069503</td>\n",
       "      <td>0.081174</td>\n",
       "      <td>6.301056</td>\n",
       "      <td>243.000343</td>\n",
       "      <td>7.637757</td>\n",
       "    </tr>\n",
       "    <tr>\n",
       "      <th>min</th>\n",
       "      <td>37.000000</td>\n",
       "      <td>32.000000</td>\n",
       "      <td>50.000000</td>\n",
       "      <td>0.500000</td>\n",
       "      <td>0.050000</td>\n",
       "      <td>1.150000</td>\n",
       "      <td>288.400000</td>\n",
       "      <td>4.010000</td>\n",
       "    </tr>\n",
       "    <tr>\n",
       "      <th>25%</th>\n",
       "      <td>45.000000</td>\n",
       "      <td>32.000000</td>\n",
       "      <td>150.000000</td>\n",
       "      <td>1.290000</td>\n",
       "      <td>0.050000</td>\n",
       "      <td>5.930000</td>\n",
       "      <td>574.300000</td>\n",
       "      <td>5.560000</td>\n",
       "    </tr>\n",
       "    <tr>\n",
       "      <th>50%</th>\n",
       "      <td>50.500000</td>\n",
       "      <td>39.500000</td>\n",
       "      <td>150.000000</td>\n",
       "      <td>1.890000</td>\n",
       "      <td>0.080000</td>\n",
       "      <td>5.930000</td>\n",
       "      <td>578.850000</td>\n",
       "      <td>10.550000</td>\n",
       "    </tr>\n",
       "    <tr>\n",
       "      <th>75%</th>\n",
       "      <td>55.000000</td>\n",
       "      <td>45.000000</td>\n",
       "      <td>150.000000</td>\n",
       "      <td>2.720000</td>\n",
       "      <td>0.210000</td>\n",
       "      <td>17.700000</td>\n",
       "      <td>859.300000</td>\n",
       "      <td>16.260000</td>\n",
       "    </tr>\n",
       "    <tr>\n",
       "      <th>max</th>\n",
       "      <td>65.000000</td>\n",
       "      <td>48.000000</td>\n",
       "      <td>150.000000</td>\n",
       "      <td>4.870000</td>\n",
       "      <td>0.270000</td>\n",
       "      <td>17.700000</td>\n",
       "      <td>1152.000000</td>\n",
       "      <td>29.750000</td>\n",
       "    </tr>\n",
       "  </tbody>\n",
       "</table>\n",
       "</div>"
      ],
      "text/plain": [
       "       Oil Temperature  Wall Temperature  Rotation Speed  Wall Shear Stress  \\\n",
       "count        92.000000         92.000000       92.000000          92.000000   \n",
       "mean         50.326087         39.021739      133.695652           2.075978   \n",
       "std           7.427464          6.203470       33.239636           1.069503   \n",
       "min          37.000000         32.000000       50.000000           0.500000   \n",
       "25%          45.000000         32.000000      150.000000           1.290000   \n",
       "50%          50.500000         39.500000      150.000000           1.890000   \n",
       "75%          55.000000         45.000000      150.000000           2.720000   \n",
       "max          65.000000         48.000000      150.000000           4.870000   \n",
       "\n",
       "       Oil Viscosity  Wax Crystal Solubility Coefficient  \\\n",
       "count      92.000000                           92.000000   \n",
       "mean        0.123261                            9.683043   \n",
       "std         0.081174                            6.301056   \n",
       "min         0.050000                            1.150000   \n",
       "25%         0.050000                            5.930000   \n",
       "50%         0.080000                            5.930000   \n",
       "75%         0.210000                           17.700000   \n",
       "max         0.270000                           17.700000   \n",
       "\n",
       "       Temperature Gradient  Wax Deposition Rate  \n",
       "count             92.000000            92.000000  \n",
       "mean             651.213043            12.823043  \n",
       "std              243.000343             7.637757  \n",
       "min              288.400000             4.010000  \n",
       "25%              574.300000             5.560000  \n",
       "50%              578.850000            10.550000  \n",
       "75%              859.300000            16.260000  \n",
       "max             1152.000000            29.750000  "
      ]
     },
     "execution_count": 102,
     "metadata": {},
     "output_type": "execute_result"
    }
   ],
   "source": [
    "df_b.describe()"
   ]
  },
  {
   "cell_type": "code",
   "execution_count": null,
   "id": "44cc1713",
   "metadata": {},
   "outputs": [],
   "source": []
  }
 ],
 "metadata": {
  "kernelspec": {
   "display_name": "Python 3 (ipykernel)",
   "language": "python",
   "name": "python3"
  },
  "language_info": {
   "codemirror_mode": {
    "name": "ipython",
    "version": 3
   },
   "file_extension": ".py",
   "mimetype": "text/x-python",
   "name": "python",
   "nbconvert_exporter": "python",
   "pygments_lexer": "ipython3",
   "version": "3.9.12"
  }
 },
 "nbformat": 4,
 "nbformat_minor": 5
}
